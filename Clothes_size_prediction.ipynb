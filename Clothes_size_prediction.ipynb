{
  "nbformat": 4,
  "nbformat_minor": 0,
  "metadata": {
    "colab": {
      "name": "Clothes_size_prediction.ipynb",
      "provenance": [],
      "collapsed_sections": [],
      "authorship_tag": "ABX9TyNEzt+SzccDz220soMhprsi"
    },
    "kernelspec": {
      "name": "python3",
      "display_name": "Python 3"
    },
    "language_info": {
      "name": "python"
    },
    "accelerator": "GPU"
  },
  "cells": [
    {
      "cell_type": "code",
      "metadata": {
        "colab": {
          "resources": {
            "http://localhost:8080/nbextensions/google.colab/files.js": {
              "data": "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",
              "ok": true,
              "headers": [
                [
                  "content-type",
                  "application/javascript"
                ]
              ],
              "status": 200,
              "status_text": ""
            }
          },
          "base_uri": "https://localhost:8080/",
          "height": 73
        },
        "id": "vlqyAd1bGJPj",
        "outputId": "19349569-939b-423f-f5d1-f687510bc3e2"
      },
      "source": [
        "from google.colab import files\n",
        "uploaded = files.upload()"
      ],
      "execution_count": 119,
      "outputs": [
        {
          "output_type": "display_data",
          "data": {
            "text/html": [
              "\n",
              "     <input type=\"file\" id=\"files-a8f6c09c-64a0-4935-999c-177ed56f57b6\" name=\"files[]\" multiple disabled\n",
              "        style=\"border:none\" />\n",
              "     <output id=\"result-a8f6c09c-64a0-4935-999c-177ed56f57b6\">\n",
              "      Upload widget is only available when the cell has been executed in the\n",
              "      current browser session. Please rerun this cell to enable.\n",
              "      </output>\n",
              "      <script src=\"/nbextensions/google.colab/files.js\"></script> "
            ],
            "text/plain": [
              "<IPython.core.display.HTML object>"
            ]
          },
          "metadata": {
            "tags": []
          }
        },
        {
          "output_type": "stream",
          "text": [
            "Saving final_test.csv to final_test (1).csv\n"
          ],
          "name": "stdout"
        }
      ]
    },
    {
      "cell_type": "code",
      "metadata": {
        "id": "soCsbRzsYKqv"
      },
      "source": [
        "import matplotlib.pyplot as plt   \n",
        "import matplotlib.style\n",
        "import seaborn as sns\n",
        "import numpy as np\n",
        "from sklearn.model_selection import train_test_split,GridSearchCV,RandomizedSearchCV\n"
      ],
      "execution_count": 197,
      "outputs": []
    },
    {
      "cell_type": "code",
      "metadata": {
        "colab": {
          "base_uri": "https://localhost:8080/"
        },
        "id": "pqyMbJZHGqns",
        "outputId": "cd3eed87-5a2b-4f99-dde2-9d0768ba0d98"
      },
      "source": [
        "import pandas as pd\n",
        "import io\n",
        "data = pd.read_csv(io.BytesIO(uploaded['final_test.csv']))\n",
        "print(data)"
      ],
      "execution_count": 198,
      "outputs": [
        {
          "output_type": "stream",
          "text": [
            "        weight   age  height size\n",
            "0           62  28.0  172.72   XL\n",
            "1           59  36.0  167.64    L\n",
            "2           61  34.0  165.10    M\n",
            "3           65  27.0  175.26    L\n",
            "4           62  45.0  172.72    M\n",
            "...        ...   ...     ...  ...\n",
            "119729      63  42.0  175.26    M\n",
            "119730      45  29.0  154.94    S\n",
            "119731      61  31.0  172.72    M\n",
            "119732      74  31.0  167.64   XL\n",
            "119733      70  30.0  167.64   XL\n",
            "\n",
            "[119734 rows x 4 columns]\n"
          ],
          "name": "stdout"
        }
      ]
    },
    {
      "cell_type": "markdown",
      "metadata": {
        "id": "6r16BgtNIpXs"
      },
      "source": [
        "There are over 1 lakh rows(exactly 119734) and 4 columns in the data.\n",
        " The 'size' column is the target variable."
      ]
    },
    {
      "cell_type": "code",
      "metadata": {
        "colab": {
          "base_uri": "https://localhost:8080/",
          "height": 202
        },
        "id": "y5ZhVxwhHbAp",
        "outputId": "0831db0c-2d31-4e81-8e7b-a23b92d9c6c7"
      },
      "source": [
        "data.head(5)"
      ],
      "execution_count": 199,
      "outputs": [
        {
          "output_type": "execute_result",
          "data": {
            "text/html": [
              "<div>\n",
              "<style scoped>\n",
              "    .dataframe tbody tr th:only-of-type {\n",
              "        vertical-align: middle;\n",
              "    }\n",
              "\n",
              "    .dataframe tbody tr th {\n",
              "        vertical-align: top;\n",
              "    }\n",
              "\n",
              "    .dataframe thead th {\n",
              "        text-align: right;\n",
              "    }\n",
              "</style>\n",
              "<table border=\"1\" class=\"dataframe\">\n",
              "  <thead>\n",
              "    <tr style=\"text-align: right;\">\n",
              "      <th></th>\n",
              "      <th>weight</th>\n",
              "      <th>age</th>\n",
              "      <th>height</th>\n",
              "      <th>size</th>\n",
              "    </tr>\n",
              "  </thead>\n",
              "  <tbody>\n",
              "    <tr>\n",
              "      <th>0</th>\n",
              "      <td>62</td>\n",
              "      <td>28.0</td>\n",
              "      <td>172.72</td>\n",
              "      <td>XL</td>\n",
              "    </tr>\n",
              "    <tr>\n",
              "      <th>1</th>\n",
              "      <td>59</td>\n",
              "      <td>36.0</td>\n",
              "      <td>167.64</td>\n",
              "      <td>L</td>\n",
              "    </tr>\n",
              "    <tr>\n",
              "      <th>2</th>\n",
              "      <td>61</td>\n",
              "      <td>34.0</td>\n",
              "      <td>165.10</td>\n",
              "      <td>M</td>\n",
              "    </tr>\n",
              "    <tr>\n",
              "      <th>3</th>\n",
              "      <td>65</td>\n",
              "      <td>27.0</td>\n",
              "      <td>175.26</td>\n",
              "      <td>L</td>\n",
              "    </tr>\n",
              "    <tr>\n",
              "      <th>4</th>\n",
              "      <td>62</td>\n",
              "      <td>45.0</td>\n",
              "      <td>172.72</td>\n",
              "      <td>M</td>\n",
              "    </tr>\n",
              "  </tbody>\n",
              "</table>\n",
              "</div>"
            ],
            "text/plain": [
              "   weight   age  height size\n",
              "0      62  28.0  172.72   XL\n",
              "1      59  36.0  167.64    L\n",
              "2      61  34.0  165.10    M\n",
              "3      65  27.0  175.26    L\n",
              "4      62  45.0  172.72    M"
            ]
          },
          "metadata": {
            "tags": []
          },
          "execution_count": 199
        }
      ]
    },
    {
      "cell_type": "code",
      "metadata": {
        "colab": {
          "base_uri": "https://localhost:8080/"
        },
        "id": "tmWM-QXeIhXe",
        "outputId": "60f913e6-35a6-4ec0-bf65-9aa6474eed31"
      },
      "source": [
        "data.shape"
      ],
      "execution_count": 200,
      "outputs": [
        {
          "output_type": "execute_result",
          "data": {
            "text/plain": [
              "(119734, 4)"
            ]
          },
          "metadata": {
            "tags": []
          },
          "execution_count": 200
        }
      ]
    },
    {
      "cell_type": "code",
      "metadata": {
        "colab": {
          "base_uri": "https://localhost:8080/"
        },
        "id": "-WiV7_c5MUIe",
        "outputId": "ddce1f57-59a9-4b18-c23c-557bd5582056"
      },
      "source": [
        "data.info()"
      ],
      "execution_count": 201,
      "outputs": [
        {
          "output_type": "stream",
          "text": [
            "<class 'pandas.core.frame.DataFrame'>\n",
            "RangeIndex: 119734 entries, 0 to 119733\n",
            "Data columns (total 4 columns):\n",
            " #   Column  Non-Null Count   Dtype  \n",
            "---  ------  --------------   -----  \n",
            " 0   weight  119734 non-null  int64  \n",
            " 1   age     119477 non-null  float64\n",
            " 2   height  119404 non-null  float64\n",
            " 3   size    119734 non-null  object \n",
            "dtypes: float64(2), int64(1), object(1)\n",
            "memory usage: 3.7+ MB\n"
          ],
          "name": "stdout"
        }
      ]
    },
    {
      "cell_type": "markdown",
      "metadata": {
        "id": "0eJUhpefMg_s"
      },
      "source": [
        "Observation:\n",
        "\n",
        "*   Weight is an integer\n",
        "*   age and height are float values\n",
        "*   size is categorical   \n",
        " \n"
      ]
    },
    {
      "cell_type": "code",
      "metadata": {
        "colab": {
          "base_uri": "https://localhost:8080/",
          "height": 387
        },
        "id": "JBkAe-8TM6T6",
        "outputId": "d8826964-de40-4d4a-9d77-d831c4e0f329"
      },
      "source": [
        "data.describe(include=\"all\")"
      ],
      "execution_count": 202,
      "outputs": [
        {
          "output_type": "execute_result",
          "data": {
            "text/html": [
              "<div>\n",
              "<style scoped>\n",
              "    .dataframe tbody tr th:only-of-type {\n",
              "        vertical-align: middle;\n",
              "    }\n",
              "\n",
              "    .dataframe tbody tr th {\n",
              "        vertical-align: top;\n",
              "    }\n",
              "\n",
              "    .dataframe thead th {\n",
              "        text-align: right;\n",
              "    }\n",
              "</style>\n",
              "<table border=\"1\" class=\"dataframe\">\n",
              "  <thead>\n",
              "    <tr style=\"text-align: right;\">\n",
              "      <th></th>\n",
              "      <th>weight</th>\n",
              "      <th>age</th>\n",
              "      <th>height</th>\n",
              "      <th>size</th>\n",
              "    </tr>\n",
              "  </thead>\n",
              "  <tbody>\n",
              "    <tr>\n",
              "      <th>count</th>\n",
              "      <td>119734.000000</td>\n",
              "      <td>119477.000000</td>\n",
              "      <td>119404.000000</td>\n",
              "      <td>119734</td>\n",
              "    </tr>\n",
              "    <tr>\n",
              "      <th>unique</th>\n",
              "      <td>NaN</td>\n",
              "      <td>NaN</td>\n",
              "      <td>NaN</td>\n",
              "      <td>7</td>\n",
              "    </tr>\n",
              "    <tr>\n",
              "      <th>top</th>\n",
              "      <td>NaN</td>\n",
              "      <td>NaN</td>\n",
              "      <td>NaN</td>\n",
              "      <td>M</td>\n",
              "    </tr>\n",
              "    <tr>\n",
              "      <th>freq</th>\n",
              "      <td>NaN</td>\n",
              "      <td>NaN</td>\n",
              "      <td>NaN</td>\n",
              "      <td>29712</td>\n",
              "    </tr>\n",
              "    <tr>\n",
              "      <th>mean</th>\n",
              "      <td>61.756811</td>\n",
              "      <td>34.027311</td>\n",
              "      <td>165.805794</td>\n",
              "      <td>NaN</td>\n",
              "    </tr>\n",
              "    <tr>\n",
              "      <th>std</th>\n",
              "      <td>9.944863</td>\n",
              "      <td>8.149447</td>\n",
              "      <td>6.737651</td>\n",
              "      <td>NaN</td>\n",
              "    </tr>\n",
              "    <tr>\n",
              "      <th>min</th>\n",
              "      <td>22.000000</td>\n",
              "      <td>0.000000</td>\n",
              "      <td>137.160000</td>\n",
              "      <td>NaN</td>\n",
              "    </tr>\n",
              "    <tr>\n",
              "      <th>25%</th>\n",
              "      <td>55.000000</td>\n",
              "      <td>29.000000</td>\n",
              "      <td>160.020000</td>\n",
              "      <td>NaN</td>\n",
              "    </tr>\n",
              "    <tr>\n",
              "      <th>50%</th>\n",
              "      <td>61.000000</td>\n",
              "      <td>32.000000</td>\n",
              "      <td>165.100000</td>\n",
              "      <td>NaN</td>\n",
              "    </tr>\n",
              "    <tr>\n",
              "      <th>75%</th>\n",
              "      <td>67.000000</td>\n",
              "      <td>37.000000</td>\n",
              "      <td>170.180000</td>\n",
              "      <td>NaN</td>\n",
              "    </tr>\n",
              "    <tr>\n",
              "      <th>max</th>\n",
              "      <td>136.000000</td>\n",
              "      <td>117.000000</td>\n",
              "      <td>193.040000</td>\n",
              "      <td>NaN</td>\n",
              "    </tr>\n",
              "  </tbody>\n",
              "</table>\n",
              "</div>"
            ],
            "text/plain": [
              "               weight            age         height    size\n",
              "count   119734.000000  119477.000000  119404.000000  119734\n",
              "unique            NaN            NaN            NaN       7\n",
              "top               NaN            NaN            NaN       M\n",
              "freq              NaN            NaN            NaN   29712\n",
              "mean        61.756811      34.027311     165.805794     NaN\n",
              "std          9.944863       8.149447       6.737651     NaN\n",
              "min         22.000000       0.000000     137.160000     NaN\n",
              "25%         55.000000      29.000000     160.020000     NaN\n",
              "50%         61.000000      32.000000     165.100000     NaN\n",
              "75%         67.000000      37.000000     170.180000     NaN\n",
              "max        136.000000     117.000000     193.040000     NaN"
            ]
          },
          "metadata": {
            "tags": []
          },
          "execution_count": 202
        }
      ]
    },
    {
      "cell_type": "code",
      "metadata": {
        "colab": {
          "base_uri": "https://localhost:8080/"
        },
        "id": "K6LX1spKNM3u",
        "outputId": "d26efd6a-af3d-40db-d399-5fb8db5d2954"
      },
      "source": [
        "(data['age']==0).sum()"
      ],
      "execution_count": 203,
      "outputs": [
        {
          "output_type": "execute_result",
          "data": {
            "text/plain": [
              "18"
            ]
          },
          "metadata": {
            "tags": []
          },
          "execution_count": 203
        }
      ]
    },
    {
      "cell_type": "code",
      "metadata": {
        "colab": {
          "base_uri": "https://localhost:8080/",
          "height": 602
        },
        "id": "zLwARsi4Vcgg",
        "outputId": "43b74592-2c51-48ce-c775-0e80f60b7551"
      },
      "source": [
        "data.loc[(data['age']==0)]"
      ],
      "execution_count": 204,
      "outputs": [
        {
          "output_type": "execute_result",
          "data": {
            "text/html": [
              "<div>\n",
              "<style scoped>\n",
              "    .dataframe tbody tr th:only-of-type {\n",
              "        vertical-align: middle;\n",
              "    }\n",
              "\n",
              "    .dataframe tbody tr th {\n",
              "        vertical-align: top;\n",
              "    }\n",
              "\n",
              "    .dataframe thead th {\n",
              "        text-align: right;\n",
              "    }\n",
              "</style>\n",
              "<table border=\"1\" class=\"dataframe\">\n",
              "  <thead>\n",
              "    <tr style=\"text-align: right;\">\n",
              "      <th></th>\n",
              "      <th>weight</th>\n",
              "      <th>age</th>\n",
              "      <th>height</th>\n",
              "      <th>size</th>\n",
              "    </tr>\n",
              "  </thead>\n",
              "  <tbody>\n",
              "    <tr>\n",
              "      <th>1261</th>\n",
              "      <td>56</td>\n",
              "      <td>0.0</td>\n",
              "      <td>170.18</td>\n",
              "      <td>S</td>\n",
              "    </tr>\n",
              "    <tr>\n",
              "      <th>7142</th>\n",
              "      <td>56</td>\n",
              "      <td>0.0</td>\n",
              "      <td>170.18</td>\n",
              "      <td>S</td>\n",
              "    </tr>\n",
              "    <tr>\n",
              "      <th>9146</th>\n",
              "      <td>56</td>\n",
              "      <td>0.0</td>\n",
              "      <td>165.10</td>\n",
              "      <td>M</td>\n",
              "    </tr>\n",
              "    <tr>\n",
              "      <th>9324</th>\n",
              "      <td>58</td>\n",
              "      <td>0.0</td>\n",
              "      <td>172.72</td>\n",
              "      <td>XL</td>\n",
              "    </tr>\n",
              "    <tr>\n",
              "      <th>22046</th>\n",
              "      <td>56</td>\n",
              "      <td>0.0</td>\n",
              "      <td>170.18</td>\n",
              "      <td>S</td>\n",
              "    </tr>\n",
              "    <tr>\n",
              "      <th>23593</th>\n",
              "      <td>77</td>\n",
              "      <td>0.0</td>\n",
              "      <td>177.80</td>\n",
              "      <td>XXXL</td>\n",
              "    </tr>\n",
              "    <tr>\n",
              "      <th>28626</th>\n",
              "      <td>58</td>\n",
              "      <td>0.0</td>\n",
              "      <td>172.72</td>\n",
              "      <td>M</td>\n",
              "    </tr>\n",
              "    <tr>\n",
              "      <th>34758</th>\n",
              "      <td>58</td>\n",
              "      <td>0.0</td>\n",
              "      <td>172.72</td>\n",
              "      <td>L</td>\n",
              "    </tr>\n",
              "    <tr>\n",
              "      <th>35313</th>\n",
              "      <td>70</td>\n",
              "      <td>0.0</td>\n",
              "      <td>160.02</td>\n",
              "      <td>XXXL</td>\n",
              "    </tr>\n",
              "    <tr>\n",
              "      <th>40653</th>\n",
              "      <td>53</td>\n",
              "      <td>0.0</td>\n",
              "      <td>157.48</td>\n",
              "      <td>XXS</td>\n",
              "    </tr>\n",
              "    <tr>\n",
              "      <th>50473</th>\n",
              "      <td>58</td>\n",
              "      <td>0.0</td>\n",
              "      <td>172.72</td>\n",
              "      <td>L</td>\n",
              "    </tr>\n",
              "    <tr>\n",
              "      <th>53391</th>\n",
              "      <td>49</td>\n",
              "      <td>0.0</td>\n",
              "      <td>157.48</td>\n",
              "      <td>S</td>\n",
              "    </tr>\n",
              "    <tr>\n",
              "      <th>69634</th>\n",
              "      <td>58</td>\n",
              "      <td>0.0</td>\n",
              "      <td>160.02</td>\n",
              "      <td>XL</td>\n",
              "    </tr>\n",
              "    <tr>\n",
              "      <th>73085</th>\n",
              "      <td>58</td>\n",
              "      <td>0.0</td>\n",
              "      <td>172.72</td>\n",
              "      <td>M</td>\n",
              "    </tr>\n",
              "    <tr>\n",
              "      <th>95043</th>\n",
              "      <td>58</td>\n",
              "      <td>0.0</td>\n",
              "      <td>172.72</td>\n",
              "      <td>XL</td>\n",
              "    </tr>\n",
              "    <tr>\n",
              "      <th>101791</th>\n",
              "      <td>56</td>\n",
              "      <td>0.0</td>\n",
              "      <td>170.18</td>\n",
              "      <td>XL</td>\n",
              "    </tr>\n",
              "    <tr>\n",
              "      <th>110064</th>\n",
              "      <td>70</td>\n",
              "      <td>0.0</td>\n",
              "      <td>167.64</td>\n",
              "      <td>XL</td>\n",
              "    </tr>\n",
              "    <tr>\n",
              "      <th>114313</th>\n",
              "      <td>54</td>\n",
              "      <td>0.0</td>\n",
              "      <td>157.48</td>\n",
              "      <td>L</td>\n",
              "    </tr>\n",
              "  </tbody>\n",
              "</table>\n",
              "</div>"
            ],
            "text/plain": [
              "        weight  age  height  size\n",
              "1261        56  0.0  170.18     S\n",
              "7142        56  0.0  170.18     S\n",
              "9146        56  0.0  165.10     M\n",
              "9324        58  0.0  172.72    XL\n",
              "22046       56  0.0  170.18     S\n",
              "23593       77  0.0  177.80  XXXL\n",
              "28626       58  0.0  172.72     M\n",
              "34758       58  0.0  172.72     L\n",
              "35313       70  0.0  160.02  XXXL\n",
              "40653       53  0.0  157.48   XXS\n",
              "50473       58  0.0  172.72     L\n",
              "53391       49  0.0  157.48     S\n",
              "69634       58  0.0  160.02    XL\n",
              "73085       58  0.0  172.72     M\n",
              "95043       58  0.0  172.72    XL\n",
              "101791      56  0.0  170.18    XL\n",
              "110064      70  0.0  167.64    XL\n",
              "114313      54  0.0  157.48     L"
            ]
          },
          "metadata": {
            "tags": []
          },
          "execution_count": 204
        }
      ]
    },
    {
      "cell_type": "code",
      "metadata": {
        "colab": {
          "base_uri": "https://localhost:8080/"
        },
        "id": "4tYHTpikQ_8M",
        "outputId": "685b9e83-9eeb-4fdb-b67f-23883c577bf5"
      },
      "source": [
        "(data['age']>100).sum()"
      ],
      "execution_count": 205,
      "outputs": [
        {
          "output_type": "execute_result",
          "data": {
            "text/plain": [
              "34"
            ]
          },
          "metadata": {
            "tags": []
          },
          "execution_count": 205
        }
      ]
    },
    {
      "cell_type": "code",
      "metadata": {
        "colab": {
          "base_uri": "https://localhost:8080/",
          "height": 1000
        },
        "id": "rwwWBZgRUsnb",
        "outputId": "1b88878f-724f-4a28-a624-5cb1910a5881"
      },
      "source": [
        "data.loc[(data['age']>100)] "
      ],
      "execution_count": 206,
      "outputs": [
        {
          "output_type": "execute_result",
          "data": {
            "text/html": [
              "<div>\n",
              "<style scoped>\n",
              "    .dataframe tbody tr th:only-of-type {\n",
              "        vertical-align: middle;\n",
              "    }\n",
              "\n",
              "    .dataframe tbody tr th {\n",
              "        vertical-align: top;\n",
              "    }\n",
              "\n",
              "    .dataframe thead th {\n",
              "        text-align: right;\n",
              "    }\n",
              "</style>\n",
              "<table border=\"1\" class=\"dataframe\">\n",
              "  <thead>\n",
              "    <tr style=\"text-align: right;\">\n",
              "      <th></th>\n",
              "      <th>weight</th>\n",
              "      <th>age</th>\n",
              "      <th>height</th>\n",
              "      <th>size</th>\n",
              "    </tr>\n",
              "  </thead>\n",
              "  <tbody>\n",
              "    <tr>\n",
              "      <th>8291</th>\n",
              "      <td>52</td>\n",
              "      <td>116.0</td>\n",
              "      <td>157.48</td>\n",
              "      <td>S</td>\n",
              "    </tr>\n",
              "    <tr>\n",
              "      <th>11096</th>\n",
              "      <td>47</td>\n",
              "      <td>117.0</td>\n",
              "      <td>152.40</td>\n",
              "      <td>XXS</td>\n",
              "    </tr>\n",
              "    <tr>\n",
              "      <th>15286</th>\n",
              "      <td>57</td>\n",
              "      <td>116.0</td>\n",
              "      <td>162.56</td>\n",
              "      <td>XXS</td>\n",
              "    </tr>\n",
              "    <tr>\n",
              "      <th>15640</th>\n",
              "      <td>56</td>\n",
              "      <td>116.0</td>\n",
              "      <td>165.10</td>\n",
              "      <td>M</td>\n",
              "    </tr>\n",
              "    <tr>\n",
              "      <th>23601</th>\n",
              "      <td>52</td>\n",
              "      <td>117.0</td>\n",
              "      <td>177.80</td>\n",
              "      <td>XXS</td>\n",
              "    </tr>\n",
              "    <tr>\n",
              "      <th>24987</th>\n",
              "      <td>57</td>\n",
              "      <td>116.0</td>\n",
              "      <td>162.56</td>\n",
              "      <td>XXS</td>\n",
              "    </tr>\n",
              "    <tr>\n",
              "      <th>28132</th>\n",
              "      <td>62</td>\n",
              "      <td>117.0</td>\n",
              "      <td>167.64</td>\n",
              "      <td>M</td>\n",
              "    </tr>\n",
              "    <tr>\n",
              "      <th>31159</th>\n",
              "      <td>52</td>\n",
              "      <td>117.0</td>\n",
              "      <td>165.10</td>\n",
              "      <td>M</td>\n",
              "    </tr>\n",
              "    <tr>\n",
              "      <th>41310</th>\n",
              "      <td>47</td>\n",
              "      <td>117.0</td>\n",
              "      <td>152.40</td>\n",
              "      <td>S</td>\n",
              "    </tr>\n",
              "    <tr>\n",
              "      <th>42564</th>\n",
              "      <td>65</td>\n",
              "      <td>117.0</td>\n",
              "      <td>170.18</td>\n",
              "      <td>M</td>\n",
              "    </tr>\n",
              "    <tr>\n",
              "      <th>46416</th>\n",
              "      <td>57</td>\n",
              "      <td>116.0</td>\n",
              "      <td>162.56</td>\n",
              "      <td>XXS</td>\n",
              "    </tr>\n",
              "    <tr>\n",
              "      <th>50452</th>\n",
              "      <td>47</td>\n",
              "      <td>117.0</td>\n",
              "      <td>152.40</td>\n",
              "      <td>XXS</td>\n",
              "    </tr>\n",
              "    <tr>\n",
              "      <th>54378</th>\n",
              "      <td>73</td>\n",
              "      <td>117.0</td>\n",
              "      <td>175.26</td>\n",
              "      <td>XXXL</td>\n",
              "    </tr>\n",
              "    <tr>\n",
              "      <th>56526</th>\n",
              "      <td>52</td>\n",
              "      <td>117.0</td>\n",
              "      <td>165.10</td>\n",
              "      <td>M</td>\n",
              "    </tr>\n",
              "    <tr>\n",
              "      <th>56669</th>\n",
              "      <td>47</td>\n",
              "      <td>117.0</td>\n",
              "      <td>152.40</td>\n",
              "      <td>S</td>\n",
              "    </tr>\n",
              "    <tr>\n",
              "      <th>58024</th>\n",
              "      <td>57</td>\n",
              "      <td>116.0</td>\n",
              "      <td>162.56</td>\n",
              "      <td>XXS</td>\n",
              "    </tr>\n",
              "    <tr>\n",
              "      <th>61025</th>\n",
              "      <td>57</td>\n",
              "      <td>116.0</td>\n",
              "      <td>162.56</td>\n",
              "      <td>M</td>\n",
              "    </tr>\n",
              "    <tr>\n",
              "      <th>62034</th>\n",
              "      <td>58</td>\n",
              "      <td>117.0</td>\n",
              "      <td>165.10</td>\n",
              "      <td>M</td>\n",
              "    </tr>\n",
              "    <tr>\n",
              "      <th>69633</th>\n",
              "      <td>52</td>\n",
              "      <td>117.0</td>\n",
              "      <td>165.10</td>\n",
              "      <td>S</td>\n",
              "    </tr>\n",
              "    <tr>\n",
              "      <th>69881</th>\n",
              "      <td>52</td>\n",
              "      <td>117.0</td>\n",
              "      <td>165.10</td>\n",
              "      <td>M</td>\n",
              "    </tr>\n",
              "    <tr>\n",
              "      <th>70984</th>\n",
              "      <td>47</td>\n",
              "      <td>117.0</td>\n",
              "      <td>152.40</td>\n",
              "      <td>S</td>\n",
              "    </tr>\n",
              "    <tr>\n",
              "      <th>71131</th>\n",
              "      <td>57</td>\n",
              "      <td>116.0</td>\n",
              "      <td>162.56</td>\n",
              "      <td>XXS</td>\n",
              "    </tr>\n",
              "    <tr>\n",
              "      <th>73482</th>\n",
              "      <td>63</td>\n",
              "      <td>116.0</td>\n",
              "      <td>167.64</td>\n",
              "      <td>XL</td>\n",
              "    </tr>\n",
              "    <tr>\n",
              "      <th>77775</th>\n",
              "      <td>66</td>\n",
              "      <td>113.0</td>\n",
              "      <td>172.72</td>\n",
              "      <td>XXXL</td>\n",
              "    </tr>\n",
              "    <tr>\n",
              "      <th>79121</th>\n",
              "      <td>61</td>\n",
              "      <td>116.0</td>\n",
              "      <td>167.64</td>\n",
              "      <td>L</td>\n",
              "    </tr>\n",
              "    <tr>\n",
              "      <th>82505</th>\n",
              "      <td>70</td>\n",
              "      <td>117.0</td>\n",
              "      <td>162.56</td>\n",
              "      <td>XXXL</td>\n",
              "    </tr>\n",
              "    <tr>\n",
              "      <th>85408</th>\n",
              "      <td>52</td>\n",
              "      <td>117.0</td>\n",
              "      <td>165.10</td>\n",
              "      <td>S</td>\n",
              "    </tr>\n",
              "    <tr>\n",
              "      <th>86117</th>\n",
              "      <td>52</td>\n",
              "      <td>117.0</td>\n",
              "      <td>165.10</td>\n",
              "      <td>S</td>\n",
              "    </tr>\n",
              "    <tr>\n",
              "      <th>87430</th>\n",
              "      <td>52</td>\n",
              "      <td>117.0</td>\n",
              "      <td>165.10</td>\n",
              "      <td>S</td>\n",
              "    </tr>\n",
              "    <tr>\n",
              "      <th>88383</th>\n",
              "      <td>47</td>\n",
              "      <td>117.0</td>\n",
              "      <td>152.40</td>\n",
              "      <td>XXS</td>\n",
              "    </tr>\n",
              "    <tr>\n",
              "      <th>93507</th>\n",
              "      <td>52</td>\n",
              "      <td>117.0</td>\n",
              "      <td>165.10</td>\n",
              "      <td>S</td>\n",
              "    </tr>\n",
              "    <tr>\n",
              "      <th>95466</th>\n",
              "      <td>47</td>\n",
              "      <td>117.0</td>\n",
              "      <td>152.40</td>\n",
              "      <td>XXS</td>\n",
              "    </tr>\n",
              "    <tr>\n",
              "      <th>105919</th>\n",
              "      <td>52</td>\n",
              "      <td>116.0</td>\n",
              "      <td>157.48</td>\n",
              "      <td>S</td>\n",
              "    </tr>\n",
              "    <tr>\n",
              "      <th>118339</th>\n",
              "      <td>57</td>\n",
              "      <td>112.0</td>\n",
              "      <td>162.56</td>\n",
              "      <td>L</td>\n",
              "    </tr>\n",
              "  </tbody>\n",
              "</table>\n",
              "</div>"
            ],
            "text/plain": [
              "        weight    age  height  size\n",
              "8291        52  116.0  157.48     S\n",
              "11096       47  117.0  152.40   XXS\n",
              "15286       57  116.0  162.56   XXS\n",
              "15640       56  116.0  165.10     M\n",
              "23601       52  117.0  177.80   XXS\n",
              "24987       57  116.0  162.56   XXS\n",
              "28132       62  117.0  167.64     M\n",
              "31159       52  117.0  165.10     M\n",
              "41310       47  117.0  152.40     S\n",
              "42564       65  117.0  170.18     M\n",
              "46416       57  116.0  162.56   XXS\n",
              "50452       47  117.0  152.40   XXS\n",
              "54378       73  117.0  175.26  XXXL\n",
              "56526       52  117.0  165.10     M\n",
              "56669       47  117.0  152.40     S\n",
              "58024       57  116.0  162.56   XXS\n",
              "61025       57  116.0  162.56     M\n",
              "62034       58  117.0  165.10     M\n",
              "69633       52  117.0  165.10     S\n",
              "69881       52  117.0  165.10     M\n",
              "70984       47  117.0  152.40     S\n",
              "71131       57  116.0  162.56   XXS\n",
              "73482       63  116.0  167.64    XL\n",
              "77775       66  113.0  172.72  XXXL\n",
              "79121       61  116.0  167.64     L\n",
              "82505       70  117.0  162.56  XXXL\n",
              "85408       52  117.0  165.10     S\n",
              "86117       52  117.0  165.10     S\n",
              "87430       52  117.0  165.10     S\n",
              "88383       47  117.0  152.40   XXS\n",
              "93507       52  117.0  165.10     S\n",
              "95466       47  117.0  152.40   XXS\n",
              "105919      52  116.0  157.48     S\n",
              "118339      57  112.0  162.56     L"
            ]
          },
          "metadata": {
            "tags": []
          },
          "execution_count": 206
        }
      ]
    },
    {
      "cell_type": "code",
      "metadata": {
        "colab": {
          "base_uri": "https://localhost:8080/"
        },
        "id": "5BnL26IRRPd2",
        "outputId": "44c4f8bf-d5a8-401b-ca17-3bf338b94ab0"
      },
      "source": [
        "(data['weight']<25).sum()"
      ],
      "execution_count": 207,
      "outputs": [
        {
          "output_type": "execute_result",
          "data": {
            "text/plain": [
              "4"
            ]
          },
          "metadata": {
            "tags": []
          },
          "execution_count": 207
        }
      ]
    },
    {
      "cell_type": "code",
      "metadata": {
        "colab": {
          "base_uri": "https://localhost:8080/"
        },
        "id": "XLZKtmyFJc_A",
        "outputId": "d2d457c2-9f98-4250-a3a5-bec82729f652"
      },
      "source": [
        "data.isnull().sum()"
      ],
      "execution_count": 208,
      "outputs": [
        {
          "output_type": "execute_result",
          "data": {
            "text/plain": [
              "weight      0\n",
              "age       257\n",
              "height    330\n",
              "size        0\n",
              "dtype: int64"
            ]
          },
          "metadata": {
            "tags": []
          },
          "execution_count": 208
        }
      ]
    },
    {
      "cell_type": "markdown",
      "metadata": {
        "id": "XcHPba0ULgm7"
      },
      "source": [
        "There are 257 null values in age and 330 null values in height."
      ]
    },
    {
      "cell_type": "code",
      "metadata": {
        "colab": {
          "base_uri": "https://localhost:8080/",
          "height": 296
        },
        "id": "Oe36jOcY48hF",
        "outputId": "3cee5bfb-147d-4b8d-ab71-1a5b0364c419"
      },
      "source": [
        "sns.countplot(data['size'])"
      ],
      "execution_count": 209,
      "outputs": [
        {
          "output_type": "execute_result",
          "data": {
            "text/plain": [
              "<matplotlib.axes._subplots.AxesSubplot at 0x7fa5bd9bf590>"
            ]
          },
          "metadata": {
            "tags": []
          },
          "execution_count": 209
        },
        {
          "output_type": "display_data",
          "data": {
            "image/png": "[encoded data removed]",
            "text/plain": [
              "<Figure size 432x288 with 1 Axes>"
            ]
          },
          "metadata": {
            "tags": [],
            "needs_background": "light"
          }
        }
      ]
    },
    {
      "cell_type": "markdown",
      "metadata": {
        "id": "F_Leq4ekR7Bu"
      },
      "source": [
        "#Drop null values"
      ]
    },
    {
      "cell_type": "code",
      "metadata": {
        "colab": {
          "base_uri": "https://localhost:8080/"
        },
        "id": "rKdm6yy-POLS",
        "outputId": "3c197e88-5e68-4d57-95fb-e90be65c3545"
      },
      "source": [
        "new_data = data.dropna(axis = 0, how = 'any')\n",
        "print(\"Old dataframe length:\",len(data))\n",
        "print(\"New dataframe length:\" ,len(new_data))\n",
        "print(\"Nmuber of rows with alteast 1 null value:\", len(data)-len(new_data))"
      ],
      "execution_count": 210,
      "outputs": [
        {
          "output_type": "stream",
          "text": [
            "Old dataframe length: 119734\n",
            "New dataframe length: 119153\n",
            "Nmuber of rows with alteast 1 null value: 581\n"
          ],
          "name": "stdout"
        }
      ]
    },
    {
      "cell_type": "markdown",
      "metadata": {
        "id": "zF-P8HOBQv52"
      },
      "source": [
        "As we have over 1 lakh rows it's ok to loose 581 rows with null value."
      ]
    },
    {
      "cell_type": "markdown",
      "metadata": {
        "id": "RaznEu-_WCYT"
      },
      "source": [
        "##Checking for incorrect values\n",
        "Drop the columns where age == 0"
      ]
    },
    {
      "cell_type": "code",
      "metadata": {
        "id": "E_z0XT3ER-ij"
      },
      "source": [
        "new_data.drop(new_data.loc[new_data['age']==0].index,inplace=True)\n"
      ],
      "execution_count": 211,
      "outputs": []
    },
    {
      "cell_type": "code",
      "metadata": {
        "colab": {
          "base_uri": "https://localhost:8080/"
        },
        "id": "VohnTQ_aPOAZ",
        "outputId": "9210200b-a7a1-4b1b-eeba-d78de1532460"
      },
      "source": [
        "new_data.isnull().sum()"
      ],
      "execution_count": 212,
      "outputs": [
        {
          "output_type": "execute_result",
          "data": {
            "text/plain": [
              "weight    0\n",
              "age       0\n",
              "height    0\n",
              "size      0\n",
              "dtype: int64"
            ]
          },
          "metadata": {
            "tags": []
          },
          "execution_count": 212
        }
      ]
    },
    {
      "cell_type": "code",
      "metadata": {
        "colab": {
          "base_uri": "https://localhost:8080/",
          "height": 49
        },
        "id": "yGtYWkMVXSq7",
        "outputId": "ac8434de-93e5-466b-f52e-a2bb4c61d516"
      },
      "source": [
        "new_data.loc[(new_data['age']==0)]"
      ],
      "execution_count": 213,
      "outputs": [
        {
          "output_type": "execute_result",
          "data": {
            "text/html": [
              "<div>\n",
              "<style scoped>\n",
              "    .dataframe tbody tr th:only-of-type {\n",
              "        vertical-align: middle;\n",
              "    }\n",
              "\n",
              "    .dataframe tbody tr th {\n",
              "        vertical-align: top;\n",
              "    }\n",
              "\n",
              "    .dataframe thead th {\n",
              "        text-align: right;\n",
              "    }\n",
              "</style>\n",
              "<table border=\"1\" class=\"dataframe\">\n",
              "  <thead>\n",
              "    <tr style=\"text-align: right;\">\n",
              "      <th></th>\n",
              "      <th>weight</th>\n",
              "      <th>age</th>\n",
              "      <th>height</th>\n",
              "      <th>size</th>\n",
              "    </tr>\n",
              "  </thead>\n",
              "  <tbody>\n",
              "  </tbody>\n",
              "</table>\n",
              "</div>"
            ],
            "text/plain": [
              "Empty DataFrame\n",
              "Columns: [weight, age, height, size]\n",
              "Index: []"
            ]
          },
          "metadata": {
            "tags": []
          },
          "execution_count": 213
        }
      ]
    },
    {
      "cell_type": "code",
      "metadata": {
        "colab": {
          "base_uri": "https://localhost:8080/",
          "height": 387
        },
        "id": "KfP5vP-JPNuk",
        "outputId": "4c0a179b-9bc5-496b-e540-9c9cfc41207e"
      },
      "source": [
        "new_data.describe(include='all')"
      ],
      "execution_count": 214,
      "outputs": [
        {
          "output_type": "execute_result",
          "data": {
            "text/html": [
              "<div>\n",
              "<style scoped>\n",
              "    .dataframe tbody tr th:only-of-type {\n",
              "        vertical-align: middle;\n",
              "    }\n",
              "\n",
              "    .dataframe tbody tr th {\n",
              "        vertical-align: top;\n",
              "    }\n",
              "\n",
              "    .dataframe thead th {\n",
              "        text-align: right;\n",
              "    }\n",
              "</style>\n",
              "<table border=\"1\" class=\"dataframe\">\n",
              "  <thead>\n",
              "    <tr style=\"text-align: right;\">\n",
              "      <th></th>\n",
              "      <th>weight</th>\n",
              "      <th>age</th>\n",
              "      <th>height</th>\n",
              "      <th>size</th>\n",
              "    </tr>\n",
              "  </thead>\n",
              "  <tbody>\n",
              "    <tr>\n",
              "      <th>count</th>\n",
              "      <td>119135.000000</td>\n",
              "      <td>119135.000000</td>\n",
              "      <td>119135.000000</td>\n",
              "      <td>119135</td>\n",
              "    </tr>\n",
              "    <tr>\n",
              "      <th>unique</th>\n",
              "      <td>NaN</td>\n",
              "      <td>NaN</td>\n",
              "      <td>NaN</td>\n",
              "      <td>7</td>\n",
              "    </tr>\n",
              "    <tr>\n",
              "      <th>top</th>\n",
              "      <td>NaN</td>\n",
              "      <td>NaN</td>\n",
              "      <td>NaN</td>\n",
              "      <td>M</td>\n",
              "    </tr>\n",
              "    <tr>\n",
              "      <th>freq</th>\n",
              "      <td>NaN</td>\n",
              "      <td>NaN</td>\n",
              "      <td>NaN</td>\n",
              "      <td>29572</td>\n",
              "    </tr>\n",
              "    <tr>\n",
              "      <th>mean</th>\n",
              "      <td>61.756537</td>\n",
              "      <td>34.037856</td>\n",
              "      <td>165.806770</td>\n",
              "      <td>NaN</td>\n",
              "    </tr>\n",
              "    <tr>\n",
              "      <th>std</th>\n",
              "      <td>9.943234</td>\n",
              "      <td>8.138172</td>\n",
              "      <td>6.737816</td>\n",
              "      <td>NaN</td>\n",
              "    </tr>\n",
              "    <tr>\n",
              "      <th>min</th>\n",
              "      <td>22.000000</td>\n",
              "      <td>1.000000</td>\n",
              "      <td>137.160000</td>\n",
              "      <td>NaN</td>\n",
              "    </tr>\n",
              "    <tr>\n",
              "      <th>25%</th>\n",
              "      <td>55.000000</td>\n",
              "      <td>29.000000</td>\n",
              "      <td>160.020000</td>\n",
              "      <td>NaN</td>\n",
              "    </tr>\n",
              "    <tr>\n",
              "      <th>50%</th>\n",
              "      <td>61.000000</td>\n",
              "      <td>32.000000</td>\n",
              "      <td>165.100000</td>\n",
              "      <td>NaN</td>\n",
              "    </tr>\n",
              "    <tr>\n",
              "      <th>75%</th>\n",
              "      <td>67.000000</td>\n",
              "      <td>37.000000</td>\n",
              "      <td>170.180000</td>\n",
              "      <td>NaN</td>\n",
              "    </tr>\n",
              "    <tr>\n",
              "      <th>max</th>\n",
              "      <td>136.000000</td>\n",
              "      <td>117.000000</td>\n",
              "      <td>193.040000</td>\n",
              "      <td>NaN</td>\n",
              "    </tr>\n",
              "  </tbody>\n",
              "</table>\n",
              "</div>"
            ],
            "text/plain": [
              "               weight            age         height    size\n",
              "count   119135.000000  119135.000000  119135.000000  119135\n",
              "unique            NaN            NaN            NaN       7\n",
              "top               NaN            NaN            NaN       M\n",
              "freq              NaN            NaN            NaN   29572\n",
              "mean        61.756537      34.037856     165.806770     NaN\n",
              "std          9.943234       8.138172       6.737816     NaN\n",
              "min         22.000000       1.000000     137.160000     NaN\n",
              "25%         55.000000      29.000000     160.020000     NaN\n",
              "50%         61.000000      32.000000     165.100000     NaN\n",
              "75%         67.000000      37.000000     170.180000     NaN\n",
              "max        136.000000     117.000000     193.040000     NaN"
            ]
          },
          "metadata": {
            "tags": []
          },
          "execution_count": 214
        }
      ]
    },
    {
      "cell_type": "code",
      "metadata": {
        "colab": {
          "base_uri": "https://localhost:8080/",
          "height": 504
        },
        "id": "0MPn_6PaYEl9",
        "outputId": "06dcf2a8-8c16-4a26-f583-7c4c5b3cd891"
      },
      "source": [
        "plt.figure(figsize=(12,8))\n",
        "sns.heatmap(new_data.corr(),annot=True,fmt='.1g',mask=np.triu(new_data.corr(),+1))"
      ],
      "execution_count": 215,
      "outputs": [
        {
          "output_type": "execute_result",
          "data": {
            "text/plain": [
              "<matplotlib.axes._subplots.AxesSubplot at 0x7fa5bd16e5d0>"
            ]
          },
          "metadata": {
            "tags": []
          },
          "execution_count": 215
        },
        {
          "output_type": "display_data",
          "data": {
            "image/png": "[encoded data removed]",
            "text/plain": [
              "<Figure size 864x576 with 2 Axes>"
            ]
          },
          "metadata": {
            "tags": [],
            "needs_background": "light"
          }
        }
      ]
    },
    {
      "cell_type": "markdown",
      "metadata": {
        "id": "W_GAlyeiaLYW"
      },
      "source": [
        "Size is more dependent on weight compared to height and age."
      ]
    },
    {
      "cell_type": "code",
      "metadata": {
        "colab": {
          "base_uri": "https://localhost:8080/"
        },
        "id": "iL3CnMNaIoIe",
        "outputId": "af75cc5e-6eeb-4517-b1e0-4a8438c2b1f8"
      },
      "source": [
        "data = pd.DataFrame(data)\n",
        "data['size'].unique()"
      ],
      "execution_count": 216,
      "outputs": [
        {
          "output_type": "execute_result",
          "data": {
            "text/plain": [
              "array(['XL', 'L', 'M', 'S', 'XXS', 'XXXL', 'XXL'], dtype=object)"
            ]
          },
          "metadata": {
            "tags": []
          },
          "execution_count": 216
        }
      ]
    },
    {
      "cell_type": "markdown",
      "metadata": {
        "id": "qjUVyvCwKs4L"
      },
      "source": [
        "There are 7 different unique values in the target variable."
      ]
    },
    {
      "cell_type": "code",
      "metadata": {
        "colab": {
          "base_uri": "https://localhost:8080/"
        },
        "id": "okwfFSnSbaJN",
        "outputId": "bcd3a39c-37a1-4d22-9bff-46affe2fca7c"
      },
      "source": [
        "new_data.shape"
      ],
      "execution_count": 217,
      "outputs": [
        {
          "output_type": "execute_result",
          "data": {
            "text/plain": [
              "(119135, 4)"
            ]
          },
          "metadata": {
            "tags": []
          },
          "execution_count": 217
        }
      ]
    },
    {
      "cell_type": "markdown",
      "metadata": {
        "id": "Fy2tndwhcqqL"
      },
      "source": [
        "#Feature Engineering"
      ]
    },
    {
      "cell_type": "code",
      "metadata": {
        "id": "Fq3_omp3bcir"
      },
      "source": [
        "#copying the cleaned data into a new variable\n",
        "data_feature = new_data.copy()\n",
        "\n",
        "# Custom label encoding ordinal categorical variables\n",
        "order_mapper = {'XXS': 1, 'S': 2, 'M': 3, 'L': 4, 'XL': 5,'XXL': 6, 'XXXL': 7}\n",
        "cat_cols = ['size']\n",
        "for i in cat_cols:\n",
        "    data_feature[i] = data_feature[i].replace(order_mapper)"
      ],
      "execution_count": 218,
      "outputs": []
    },
    {
      "cell_type": "code",
      "metadata": {
        "colab": {
          "base_uri": "https://localhost:8080/",
          "height": 356
        },
        "id": "7k97A1oEcjok",
        "outputId": "b0a538b3-e58a-4ce3-be97-67069f4f8757"
      },
      "source": [
        "data_feature.head(10)"
      ],
      "execution_count": 219,
      "outputs": [
        {
          "output_type": "execute_result",
          "data": {
            "text/html": [
              "<div>\n",
              "<style scoped>\n",
              "    .dataframe tbody tr th:only-of-type {\n",
              "        vertical-align: middle;\n",
              "    }\n",
              "\n",
              "    .dataframe tbody tr th {\n",
              "        vertical-align: top;\n",
              "    }\n",
              "\n",
              "    .dataframe thead th {\n",
              "        text-align: right;\n",
              "    }\n",
              "</style>\n",
              "<table border=\"1\" class=\"dataframe\">\n",
              "  <thead>\n",
              "    <tr style=\"text-align: right;\">\n",
              "      <th></th>\n",
              "      <th>weight</th>\n",
              "      <th>age</th>\n",
              "      <th>height</th>\n",
              "      <th>size</th>\n",
              "    </tr>\n",
              "  </thead>\n",
              "  <tbody>\n",
              "    <tr>\n",
              "      <th>0</th>\n",
              "      <td>62</td>\n",
              "      <td>28.0</td>\n",
              "      <td>172.72</td>\n",
              "      <td>5</td>\n",
              "    </tr>\n",
              "    <tr>\n",
              "      <th>1</th>\n",
              "      <td>59</td>\n",
              "      <td>36.0</td>\n",
              "      <td>167.64</td>\n",
              "      <td>4</td>\n",
              "    </tr>\n",
              "    <tr>\n",
              "      <th>2</th>\n",
              "      <td>61</td>\n",
              "      <td>34.0</td>\n",
              "      <td>165.10</td>\n",
              "      <td>3</td>\n",
              "    </tr>\n",
              "    <tr>\n",
              "      <th>3</th>\n",
              "      <td>65</td>\n",
              "      <td>27.0</td>\n",
              "      <td>175.26</td>\n",
              "      <td>4</td>\n",
              "    </tr>\n",
              "    <tr>\n",
              "      <th>4</th>\n",
              "      <td>62</td>\n",
              "      <td>45.0</td>\n",
              "      <td>172.72</td>\n",
              "      <td>3</td>\n",
              "    </tr>\n",
              "    <tr>\n",
              "      <th>5</th>\n",
              "      <td>50</td>\n",
              "      <td>27.0</td>\n",
              "      <td>160.02</td>\n",
              "      <td>2</td>\n",
              "    </tr>\n",
              "    <tr>\n",
              "      <th>6</th>\n",
              "      <td>53</td>\n",
              "      <td>65.0</td>\n",
              "      <td>160.02</td>\n",
              "      <td>3</td>\n",
              "    </tr>\n",
              "    <tr>\n",
              "      <th>7</th>\n",
              "      <td>51</td>\n",
              "      <td>33.0</td>\n",
              "      <td>160.02</td>\n",
              "      <td>1</td>\n",
              "    </tr>\n",
              "    <tr>\n",
              "      <th>8</th>\n",
              "      <td>54</td>\n",
              "      <td>26.0</td>\n",
              "      <td>167.64</td>\n",
              "      <td>3</td>\n",
              "    </tr>\n",
              "    <tr>\n",
              "      <th>9</th>\n",
              "      <td>53</td>\n",
              "      <td>32.0</td>\n",
              "      <td>165.10</td>\n",
              "      <td>2</td>\n",
              "    </tr>\n",
              "  </tbody>\n",
              "</table>\n",
              "</div>"
            ],
            "text/plain": [
              "   weight   age  height  size\n",
              "0      62  28.0  172.72     5\n",
              "1      59  36.0  167.64     4\n",
              "2      61  34.0  165.10     3\n",
              "3      65  27.0  175.26     4\n",
              "4      62  45.0  172.72     3\n",
              "5      50  27.0  160.02     2\n",
              "6      53  65.0  160.02     3\n",
              "7      51  33.0  160.02     1\n",
              "8      54  26.0  167.64     3\n",
              "9      53  32.0  165.10     2"
            ]
          },
          "metadata": {
            "tags": []
          },
          "execution_count": 219
        }
      ]
    },
    {
      "cell_type": "markdown",
      "metadata": {
        "id": "yNyOGBP0dAKn"
      },
      "source": [
        "#Splitting Dataset into train and test"
      ]
    },
    {
      "cell_type": "code",
      "metadata": {
        "id": "B_YEXLAWcnFX"
      },
      "source": [
        "X = data_feature.drop('size',axis = 1)\n",
        "y = data_feature['size']"
      ],
      "execution_count": 220,
      "outputs": []
    },
    {
      "cell_type": "code",
      "metadata": {
        "id": "Ur2CQHuOdcXf"
      },
      "source": [
        "# Split X and y into training and test set in 70:30 ratio\n",
        "X_train, X_test, y_train, y_test = train_test_split(X, y, test_size=0.20 , random_state=1)"
      ],
      "execution_count": 221,
      "outputs": []
    },
    {
      "cell_type": "code",
      "metadata": {
        "colab": {
          "base_uri": "https://localhost:8080/",
          "height": 202
        },
        "id": "5P-QhnLBdh9J",
        "outputId": "38fece53-1f21-4622-edde-60e6bf337de8"
      },
      "source": [
        "X_train.head()"
      ],
      "execution_count": 222,
      "outputs": [
        {
          "output_type": "execute_result",
          "data": {
            "text/html": [
              "<div>\n",
              "<style scoped>\n",
              "    .dataframe tbody tr th:only-of-type {\n",
              "        vertical-align: middle;\n",
              "    }\n",
              "\n",
              "    .dataframe tbody tr th {\n",
              "        vertical-align: top;\n",
              "    }\n",
              "\n",
              "    .dataframe thead th {\n",
              "        text-align: right;\n",
              "    }\n",
              "</style>\n",
              "<table border=\"1\" class=\"dataframe\">\n",
              "  <thead>\n",
              "    <tr style=\"text-align: right;\">\n",
              "      <th></th>\n",
              "      <th>weight</th>\n",
              "      <th>age</th>\n",
              "      <th>height</th>\n",
              "    </tr>\n",
              "  </thead>\n",
              "  <tbody>\n",
              "    <tr>\n",
              "      <th>75403</th>\n",
              "      <td>52</td>\n",
              "      <td>60.0</td>\n",
              "      <td>162.56</td>\n",
              "    </tr>\n",
              "    <tr>\n",
              "      <th>16857</th>\n",
              "      <td>65</td>\n",
              "      <td>26.0</td>\n",
              "      <td>165.10</td>\n",
              "    </tr>\n",
              "    <tr>\n",
              "      <th>56847</th>\n",
              "      <td>53</td>\n",
              "      <td>40.0</td>\n",
              "      <td>154.94</td>\n",
              "    </tr>\n",
              "    <tr>\n",
              "      <th>48806</th>\n",
              "      <td>62</td>\n",
              "      <td>64.0</td>\n",
              "      <td>160.02</td>\n",
              "    </tr>\n",
              "    <tr>\n",
              "      <th>17932</th>\n",
              "      <td>81</td>\n",
              "      <td>39.0</td>\n",
              "      <td>177.80</td>\n",
              "    </tr>\n",
              "  </tbody>\n",
              "</table>\n",
              "</div>"
            ],
            "text/plain": [
              "       weight   age  height\n",
              "75403      52  60.0  162.56\n",
              "16857      65  26.0  165.10\n",
              "56847      53  40.0  154.94\n",
              "48806      62  64.0  160.02\n",
              "17932      81  39.0  177.80"
            ]
          },
          "metadata": {
            "tags": []
          },
          "execution_count": 222
        }
      ]
    },
    {
      "cell_type": "code",
      "metadata": {
        "colab": {
          "base_uri": "https://localhost:8080/"
        },
        "id": "uCt1Sg6md33C",
        "outputId": "484fb397-c3f1-4b89-f76b-699bcb19bc78"
      },
      "source": [
        "# Checking dimensions on the train and test data\n",
        "print('X_train: ',X_train.shape)\n",
        "print('X_test: ',X_test.shape)\n",
        "print('y_train: ',y_train.shape)\n",
        "print('y_test: ',y_test.shape)"
      ],
      "execution_count": 223,
      "outputs": [
        {
          "output_type": "stream",
          "text": [
            "X_train:  (95308, 3)\n",
            "X_test:  (23827, 3)\n",
            "y_train:  (95308,)\n",
            "y_test:  (23827,)\n"
          ],
          "name": "stdout"
        }
      ]
    },
    {
      "cell_type": "code",
      "metadata": {
        "id": "ATJeoQn65U9p"
      },
      "source": [
        "# standard scaling \n",
        "from sklearn.preprocessing import StandardScaler\n",
        "\n",
        "sc = StandardScaler()\n",
        "X_train = sc.fit_transform(X_train)\n",
        "X_test = sc.fit_transform(X_test)"
      ],
      "execution_count": 224,
      "outputs": []
    },
    {
      "cell_type": "code",
      "metadata": {
        "colab": {
          "base_uri": "https://localhost:8080/"
        },
        "id": "nxgos-nE6dfq",
        "outputId": "e7e2a041-14c4-4ade-9f82-5eab2ab4c76c"
      },
      "source": [
        "dfs = []\n",
        "sizes = []\n",
        "for size_type in data['size'].unique():\n",
        "    print('size type:',size_type)\n",
        "    sizes.append(size_type)\n",
        "    ndf = data[['age','height','weight']][data['size'] == size_type]\n",
        "    zscore = ((ndf - ndf.mean())/ndf.std())\n",
        "    dfs.append(zscore) "
      ],
      "execution_count": 225,
      "outputs": [
        {
          "output_type": "stream",
          "text": [
            "size type: XL\n",
            "size type: L\n",
            "size type: M\n",
            "size type: S\n",
            "size type: XXS\n",
            "size type: XXXL\n",
            "size type: XXL\n"
          ],
          "name": "stdout"
        }
      ]
    },
    {
      "cell_type": "code",
      "metadata": {
        "colab": {
          "base_uri": "https://localhost:8080/"
        },
        "id": "KtAbNSxN6i2D",
        "outputId": "988db4a9-0828-4191-e015-c7ca71866b92"
      },
      "source": [
        "for i in range(len(dfs)):\n",
        "    print(sizes[i])\n",
        "    dfs[i]['age'] = dfs[i]['age'][(dfs[i]['age']>-3) & (dfs[i]['age']<3)]\n",
        "    dfs[i]['height'] = dfs[i]['height'][(dfs[i]['height']>-3) & (dfs[i]['height']<3)]\n",
        "    dfs[i]['weight'] = dfs[i]['weight'][(dfs[i]['weight']>-3) & (dfs[i]['weight']<3)]\n"
      ],
      "execution_count": 226,
      "outputs": [
        {
          "output_type": "stream",
          "text": [
            "XL\n",
            "L\n",
            "M\n",
            "S\n",
            "XXS\n",
            "XXXL\n",
            "XXL\n"
          ],
          "name": "stdout"
        }
      ]
    },
    {
      "cell_type": "markdown",
      "metadata": {
        "id": "kmicxPcBgNa9"
      },
      "source": [
        "#Linear Regression"
      ]
    },
    {
      "cell_type": "code",
      "metadata": {
        "id": "w6dzlzhNgbQc"
      },
      "source": [
        "from scipy.stats import zscore\n",
        "\n",
        "import statsmodels.formula.api as smf\n",
        "from statsmodels.compat import lzip\n",
        "import statsmodels.api as sm\n",
        "from statsmodels.stats.outliers_influence import variance_inflation_factor\n",
        "\n",
        "from sklearn import metrics\n",
        "from sklearn.preprocessing import StandardScaler\n",
        "from sklearn.compose import TransformedTargetRegressor\n",
        "from sklearn.metrics import mean_squared_error\n",
        "from sklearn.model_selection import train_test_split,GridSearchCV,RandomizedSearchCV\n",
        "\n",
        "from sklearn.linear_model import LinearRegression\n",
        "from sklearn.linear_model import Ridge\n",
        "from sklearn.linear_model import Lasso\n",
        "from sklearn.ensemble import RandomForestRegressor\n",
        "from sklearn.neural_network import MLPRegressor\n",
        "from sklearn.tree import DecisionTreeRegressor\n",
        "from sklearn.svm import SVR\n",
        "\n",
        "import warnings\n",
        "warnings.filterwarnings(\"ignore\")\n",
        "%matplotlib inline"
      ],
      "execution_count": 227,
      "outputs": []
    },
    {
      "cell_type": "code",
      "metadata": {
        "colab": {
          "base_uri": "https://localhost:8080/"
        },
        "id": "r53NQ7KteGtZ",
        "outputId": "95fb3735-d4ac-41ee-f412-c2710bc93f8b"
      },
      "source": [
        "LR = LinearRegression()\n",
        "LR.fit(X_train, y_train)"
      ],
      "execution_count": 228,
      "outputs": [
        {
          "output_type": "execute_result",
          "data": {
            "text/plain": [
              "LinearRegression(copy_X=True, fit_intercept=True, n_jobs=None, normalize=False)"
            ]
          },
          "metadata": {
            "tags": []
          },
          "execution_count": 228
        }
      ]
    },
    {
      "cell_type": "code",
      "metadata": {
        "colab": {
          "base_uri": "https://localhost:8080/"
        },
        "id": "nDe_WZUxgd2D",
        "outputId": "184f5003-75cf-4202-dc6e-8ab29afafdeb"
      },
      "source": [
        "\n",
        "\n",
        "print(\"The coefficient for weight is: \")\n",
        "print(LR.coef_[0])\n",
        "print(\"The coefficient for age is: \")\n",
        "print(LR.coef_[1])\n",
        "print(\"The coefficient for height is: \")\n",
        "print(LR.coef_[2])"
      ],
      "execution_count": 229,
      "outputs": [
        {
          "output_type": "stream",
          "text": [
            "The coefficient for weight is: \n",
            "1.4937842341263896\n",
            "The coefficient for age is: \n",
            "0.22565672858965358\n",
            "The coefficient for height is: \n",
            "-0.08811756227050699\n"
          ],
          "name": "stdout"
        }
      ]
    },
    {
      "cell_type": "code",
      "metadata": {
        "colab": {
          "base_uri": "https://localhost:8080/"
        },
        "id": "6vWnnxyFhLa6",
        "outputId": "bbd755c5-ad55-45dd-af69-2591fa28b5e3"
      },
      "source": [
        "LR.fit(X_train,y_train)"
      ],
      "execution_count": 230,
      "outputs": [
        {
          "output_type": "execute_result",
          "data": {
            "text/plain": [
              "LinearRegression(copy_X=True, fit_intercept=True, n_jobs=None, normalize=False)"
            ]
          },
          "metadata": {
            "tags": []
          },
          "execution_count": 230
        }
      ]
    },
    {
      "cell_type": "code",
      "metadata": {
        "colab": {
          "base_uri": "https://localhost:8080/"
        },
        "id": "Bd8wk6VQj5v_",
        "outputId": "747f449a-7275-41eb-e68e-3ee93ebb89d8"
      },
      "source": [
        "print(LR.coef_,LR.intercept_)"
      ],
      "execution_count": 231,
      "outputs": [
        {
          "output_type": "stream",
          "text": [
            "[ 1.49378423  0.22565673 -0.08811756] 3.8321232215553787\n"
          ],
          "name": "stdout"
        }
      ]
    },
    {
      "cell_type": "code",
      "metadata": {
        "id": "AoSkzHIrkmwO"
      },
      "source": [
        "y_pred = LR.predict(X_test)"
      ],
      "execution_count": 232,
      "outputs": []
    },
    {
      "cell_type": "code",
      "metadata": {
        "colab": {
          "base_uri": "https://localhost:8080/"
        },
        "id": "hVtBsYbvUZww",
        "outputId": "d568fae5-237a-42c8-92ce-465be7b3a433"
      },
      "source": [
        "X_test[1]"
      ],
      "execution_count": 256,
      "outputs": [
        {
          "output_type": "execute_result",
          "data": {
            "text/plain": [
              "array([ 2.41023574, -0.74212831,  1.4068207 ])"
            ]
          },
          "metadata": {
            "tags": []
          },
          "execution_count": 256
        }
      ]
    },
    {
      "cell_type": "code",
      "metadata": {
        "colab": {
          "base_uri": "https://localhost:8080/"
        },
        "id": "_sEa-oa0TIil",
        "outputId": "62b5df84-43c1-4c96-c336-9831a2841fe6"
      },
      "source": [
        "pred = LR.predict([[ 2.41023574, -0.74212831,  1.4068207 ]])\n",
        "print(pred)"
      ],
      "execution_count": 257,
      "outputs": [
        {
          "output_type": "stream",
          "text": [
            "[7.14106351]\n"
          ],
          "name": "stdout"
        }
      ]
    },
    {
      "cell_type": "code",
      "metadata": {
        "colab": {
          "base_uri": "https://localhost:8080/",
          "height": 415
        },
        "id": "F8-SdYdvk-r2",
        "outputId": "7beb5312-db8d-4d39-92ef-d445deedf25f"
      },
      "source": [
        "df = pd.DataFrame({'Actual value':y_test, 'Predicted value':y_pred})\n",
        "df"
      ],
      "execution_count": 254,
      "outputs": [
        {
          "output_type": "execute_result",
          "data": {
            "text/html": [
              "<div>\n",
              "<style scoped>\n",
              "    .dataframe tbody tr th:only-of-type {\n",
              "        vertical-align: middle;\n",
              "    }\n",
              "\n",
              "    .dataframe tbody tr th {\n",
              "        vertical-align: top;\n",
              "    }\n",
              "\n",
              "    .dataframe thead th {\n",
              "        text-align: right;\n",
              "    }\n",
              "</style>\n",
              "<table border=\"1\" class=\"dataframe\">\n",
              "  <thead>\n",
              "    <tr style=\"text-align: right;\">\n",
              "      <th></th>\n",
              "      <th>Actual value</th>\n",
              "      <th>Predicted value</th>\n",
              "    </tr>\n",
              "  </thead>\n",
              "  <tbody>\n",
              "    <tr>\n",
              "      <th>38016</th>\n",
              "      <td>4</td>\n",
              "      <td>3</td>\n",
              "    </tr>\n",
              "    <tr>\n",
              "      <th>53003</th>\n",
              "      <td>7</td>\n",
              "      <td>7</td>\n",
              "    </tr>\n",
              "    <tr>\n",
              "      <th>52929</th>\n",
              "      <td>2</td>\n",
              "      <td>2</td>\n",
              "    </tr>\n",
              "    <tr>\n",
              "      <th>60650</th>\n",
              "      <td>2</td>\n",
              "      <td>3</td>\n",
              "    </tr>\n",
              "    <tr>\n",
              "      <th>88641</th>\n",
              "      <td>4</td>\n",
              "      <td>4</td>\n",
              "    </tr>\n",
              "    <tr>\n",
              "      <th>...</th>\n",
              "      <td>...</td>\n",
              "      <td>...</td>\n",
              "    </tr>\n",
              "    <tr>\n",
              "      <th>90563</th>\n",
              "      <td>7</td>\n",
              "      <td>7</td>\n",
              "    </tr>\n",
              "    <tr>\n",
              "      <th>85112</th>\n",
              "      <td>2</td>\n",
              "      <td>2</td>\n",
              "    </tr>\n",
              "    <tr>\n",
              "      <th>97464</th>\n",
              "      <td>4</td>\n",
              "      <td>1</td>\n",
              "    </tr>\n",
              "    <tr>\n",
              "      <th>118387</th>\n",
              "      <td>7</td>\n",
              "      <td>7</td>\n",
              "    </tr>\n",
              "    <tr>\n",
              "      <th>87601</th>\n",
              "      <td>3</td>\n",
              "      <td>3</td>\n",
              "    </tr>\n",
              "  </tbody>\n",
              "</table>\n",
              "<p>23827 rows × 2 columns</p>\n",
              "</div>"
            ],
            "text/plain": [
              "        Actual value  Predicted value\n",
              "38016              4                3\n",
              "53003              7                7\n",
              "52929              2                2\n",
              "60650              2                3\n",
              "88641              4                4\n",
              "...              ...              ...\n",
              "90563              7                7\n",
              "85112              2                2\n",
              "97464              4                1\n",
              "118387             7                7\n",
              "87601              3                3\n",
              "\n",
              "[23827 rows x 2 columns]"
            ]
          },
          "metadata": {
            "tags": []
          },
          "execution_count": 254
        }
      ]
    },
    {
      "cell_type": "code",
      "metadata": {
        "colab": {
          "base_uri": "https://localhost:8080/"
        },
        "id": "legtx1fBlQ4R",
        "outputId": "28f92f8d-842f-4028-bc6b-ca59a10aafef"
      },
      "source": [
        "#check the accuracy scores for training and test set\n",
        "print(\"Training Score \",LR.score(X_train,y_train))\n",
        "print(\"Testing Score \",LR.score(X_test,y_test))"
      ],
      "execution_count": 234,
      "outputs": [
        {
          "output_type": "stream",
          "text": [
            "Training Score  0.6449151758906801\n",
            "Testing Score  0.6499466096971149\n"
          ],
          "name": "stdout"
        }
      ]
    },
    {
      "cell_type": "code",
      "metadata": {
        "colab": {
          "base_uri": "https://localhost:8080/"
        },
        "id": "mnVZefyfoXLD",
        "outputId": "dce9e020-f2d9-4e84-8c6c-1bdd2bf9ded4"
      },
      "source": [
        "from sklearn.metrics import r2_score\n",
        "from sklearn.metrics import mean_squared_error\n",
        "from sklearn.metrics import mean_absolute_error\n",
        "#Checking the efficiency of model\n",
        "mean_squ_error = mean_squared_error(y_test, y_pred)\n",
        "mean_abs_error = mean_absolute_error(y_test, y_pred)\n",
        "print(\"Mean Squred Error:\",mean_squ_error)\n",
        "print(\"Mean absolute Error:\",mean_abs_error)"
      ],
      "execution_count": 235,
      "outputs": [
        {
          "output_type": "stream",
          "text": [
            "Mean Squred Error: 1.217635239474146\n",
            "Mean absolute Error: 0.8390392747335929\n"
          ],
          "name": "stdout"
        }
      ]
    },
    {
      "cell_type": "markdown",
      "metadata": {
        "id": "niRMd5etAdfh"
      },
      "source": [
        "#Stochastic Gradient descent"
      ]
    },
    {
      "cell_type": "code",
      "metadata": {
        "id": "qZFiMGHlAO5z"
      },
      "source": [
        "from sklearn.linear_model import SGDClassifier\n",
        "\n",
        "# creating the model\n",
        "sgdc_model = SGDClassifier(penalty=None)\n",
        "\n",
        "# feeding the training model into the model\n",
        "sgdc_model.fit(X_train, y_train)\n",
        "\n",
        "# predicting the values for the test set\n",
        "y_pred = sgdc_model.predict(X_test)"
      ],
      "execution_count": 259,
      "outputs": []
    },
    {
      "cell_type": "code",
      "metadata": {
        "colab": {
          "base_uri": "https://localhost:8080/"
        },
        "id": "42BUyHZAAYQX",
        "outputId": "73baca06-a84d-4ed6-befa-fb70d4f9bc55"
      },
      "source": [
        "print(\"Training Score \",sgdc_model.score(X_train,y_train))\n",
        "print(\"Testing Score \",sgdc_model.score(X_test,y_test))"
      ],
      "execution_count": 260,
      "outputs": [
        {
          "output_type": "stream",
          "text": [
            "Training Score  0.42309145087505773\n",
            "Testing Score  0.4266168632223948\n"
          ],
          "name": "stdout"
        }
      ]
    },
    {
      "cell_type": "markdown",
      "metadata": {
        "id": "_ilNjexfBRQc"
      },
      "source": [
        "#Decision Tree Classifier"
      ]
    },
    {
      "cell_type": "code",
      "metadata": {
        "id": "R10T6IVOAvKC"
      },
      "source": [
        "from sklearn.tree import DecisionTreeClassifier\n",
        "classifier = DecisionTreeClassifier()\n",
        "classifier = classifier.fit(X_train,y_train)"
      ],
      "execution_count": 239,
      "outputs": []
    },
    {
      "cell_type": "code",
      "metadata": {
        "colab": {
          "base_uri": "https://localhost:8080/"
        },
        "id": "xfyB5bCCC2mp",
        "outputId": "e13a9c07-20fa-4d00-d19f-e5969893cb7b"
      },
      "source": [
        "#prediction\n",
        "y_pred = classifier.predict(X_test)#Accuracy\n",
        "from sklearn import metrics\n",
        "print('Accuracy Score:', metrics.accuracy_score(y_test,y_pred))\n"
      ],
      "execution_count": 240,
      "outputs": [
        {
          "output_type": "stream",
          "text": [
            "Accuracy Score: 0.5105972216393168\n"
          ],
          "name": "stdout"
        }
      ]
    },
    {
      "cell_type": "code",
      "metadata": {
        "colab": {
          "base_uri": "https://localhost:8080/"
        },
        "id": "e5E9n0JgC8am",
        "outputId": "a8eded7e-1581-4264-ed65-47c38655aa68"
      },
      "source": [
        "#check the accuracy scores for training and test set\n",
        "print(\"Training Score \",classifier.score(X_train,y_train))\n",
        "print(\"Testing Score \",classifier.score(X_test,y_test))"
      ],
      "execution_count": 241,
      "outputs": [
        {
          "output_type": "stream",
          "text": [
            "Training Score  0.5907059218533597\n",
            "Testing Score  0.5105972216393168\n"
          ],
          "name": "stdout"
        }
      ]
    },
    {
      "cell_type": "code",
      "metadata": {
        "colab": {
          "base_uri": "https://localhost:8080/"
        },
        "id": "kudLYOff7D7E",
        "outputId": "1f95dd02-0c7a-4e37-d210-b8613675be15"
      },
      "source": [
        "DecisionTreeClassifierScore = classifier.score(X_test,y_test)\n",
        "print(\"Accuracy obtained by Decision Tree Classifier model:\",DecisionTreeClassifierScore*100)\n"
      ],
      "execution_count": 242,
      "outputs": [
        {
          "output_type": "stream",
          "text": [
            "Accuracy obtained by Decision Tree Classifier model: 51.059722163931674\n"
          ],
          "name": "stdout"
        }
      ]
    },
    {
      "cell_type": "markdown",
      "metadata": {
        "id": "GlMD2V_aECak"
      },
      "source": [
        "#Random forest classifier"
      ]
    },
    {
      "cell_type": "code",
      "metadata": {
        "colab": {
          "base_uri": "https://localhost:8080/"
        },
        "id": "vi83npmSDYvM",
        "outputId": "e454ef51-0261-41e9-f47d-6d3e781ffae0"
      },
      "source": [
        "from sklearn.ensemble import RandomForestClassifier\n",
        "\n",
        "clf = RandomForestClassifier(n_estimators = 100)  \n",
        "  \n",
        "# Training the model on the training dataset\n",
        "# fit function is used to train the model using the training sets as parameters\n",
        "clf.fit(X_train, y_train)\n",
        "  \n",
        "# performing predictions on the test dataset\n",
        "y_pred = clf.predict(X_test)\n",
        "  \n",
        "# metrics are used to find accuracy or error\n",
        "from sklearn import metrics  \n",
        "print()\n",
        "  \n",
        "# using metrics module for accuracy calculation\n",
        "print(\"ACCURACY OF THE MODEL: \", metrics.accuracy_score(y_test, y_pred))\n",
        "#check the accuracy scores for training and test set\n",
        "print(\"Training Score \",clf.score(X_train,y_train))\n",
        "print(\"Testing Score \",clf.score(X_test,y_test))"
      ],
      "execution_count": 243,
      "outputs": [
        {
          "output_type": "stream",
          "text": [
            "\n",
            "ACCURACY OF THE MODEL:  0.5165568472741008\n",
            "Training Score  0.5906534603600957\n",
            "Testing Score  0.5165568472741008\n"
          ],
          "name": "stdout"
        }
      ]
    },
    {
      "cell_type": "markdown",
      "metadata": {
        "id": "UlneBV54ErEz"
      },
      "source": [
        "#K NN "
      ]
    },
    {
      "cell_type": "code",
      "metadata": {
        "colab": {
          "base_uri": "https://localhost:8080/"
        },
        "id": "1ts8QIRQELXo",
        "outputId": "2ac8b5c2-7808-4e52-e383-09339aef639e"
      },
      "source": [
        "#Fitting K-NN classifier to the training set  \n",
        "from sklearn.neighbors import KNeighborsClassifier  \n",
        "knn= KNeighborsClassifier(n_neighbors=7, metric='manhattan', weights= 'distance')  \n",
        "knn.fit(X_train, y_train)  "
      ],
      "execution_count": 244,
      "outputs": [
        {
          "output_type": "execute_result",
          "data": {
            "text/plain": [
              "KNeighborsClassifier(algorithm='auto', leaf_size=30, metric='manhattan',\n",
              "                     metric_params=None, n_jobs=None, n_neighbors=7, p=2,\n",
              "                     weights='distance')"
            ]
          },
          "metadata": {
            "tags": []
          },
          "execution_count": 244
        }
      ]
    },
    {
      "cell_type": "code",
      "metadata": {
        "colab": {
          "base_uri": "https://localhost:8080/"
        },
        "id": "O6r2bLBZEw1B",
        "outputId": "38013272-534f-4aca-d81a-e0d617160ddb"
      },
      "source": [
        "#check the accuracy scores for training and test set\n",
        "print(\"Training Score \",knn.score(X_train,y_train))\n",
        "print(\"Testing Score \",knn.score(X_test,y_test))"
      ],
      "execution_count": 245,
      "outputs": [
        {
          "output_type": "stream",
          "text": [
            "Training Score  0.5598375792168548\n",
            "Testing Score  0.4877659797708482\n"
          ],
          "name": "stdout"
        }
      ]
    },
    {
      "cell_type": "markdown",
      "metadata": {
        "id": "QdgjKptP8NLX"
      },
      "source": [
        "#XGBRF"
      ]
    },
    {
      "cell_type": "code",
      "metadata": {
        "colab": {
          "base_uri": "https://localhost:8080/"
        },
        "id": "PXSCNLLd7auk",
        "outputId": "760b8e35-f6ce-4eed-9fb8-e1d0484abaa5"
      },
      "source": [
        "from xgboost import XGBRFClassifier\n",
        "modelXGBRF = XGBRFClassifier(n_estimators=100, subsample=0.9, colsample_bynode=0.2)\n",
        "modelXGBRF.fit(X_train,y_train)"
      ],
      "execution_count": 171,
      "outputs": [
        {
          "output_type": "execute_result",
          "data": {
            "text/plain": [
              "XGBRFClassifier(base_score=0.5, colsample_bylevel=1, colsample_bynode=0.2,\n",
              "                colsample_bytree=1, gamma=0, learning_rate=1, max_delta_step=0,\n",
              "                max_depth=3, min_child_weight=1, missing=None, n_estimators=100,\n",
              "                n_jobs=1, nthread=None, objective='multi:softprob',\n",
              "                random_state=0, reg_alpha=0, reg_lambda=1, scale_pos_weight=1,\n",
              "                seed=None, silent=None, subsample=0.9, verbosity=1)"
            ]
          },
          "metadata": {
            "tags": []
          },
          "execution_count": 171
        }
      ]
    },
    {
      "cell_type": "code",
      "metadata": {
        "colab": {
          "base_uri": "https://localhost:8080/"
        },
        "id": "CD4-UTDT7hae",
        "outputId": "66bdb1bd-4984-4a8a-e79f-7312c69fcc0a"
      },
      "source": [
        "preds=modelXGBRF.predict(X_test)\n",
        "preds"
      ],
      "execution_count": 172,
      "outputs": [
        {
          "output_type": "execute_result",
          "data": {
            "text/plain": [
              "array([3, 7, 2, ..., 2, 7, 3])"
            ]
          },
          "metadata": {
            "tags": []
          },
          "execution_count": 172
        }
      ]
    },
    {
      "cell_type": "code",
      "metadata": {
        "colab": {
          "base_uri": "https://localhost:8080/"
        },
        "id": "_bUx5Fah7o84",
        "outputId": "f6a8be9f-3158-4f7b-c2d0-33090faedaa4"
      },
      "source": [
        "XGBRFScore=modelXGBRF.score(X_test,y_test)\n",
        "print(\"Accuracy obtained by XGBRF model:\",XGBRFScore*100)"
      ],
      "execution_count": 173,
      "outputs": [
        {
          "output_type": "stream",
          "text": [
            "Accuracy obtained by XGBRF model: 48.9864439501406\n"
          ],
          "name": "stdout"
        }
      ]
    },
    {
      "cell_type": "code",
      "metadata": {
        "colab": {
          "base_uri": "https://localhost:8080/"
        },
        "id": "y0WX7EqA9NUI",
        "outputId": "c83980b1-c27b-46ab-be35-9affb07d3c56"
      },
      "source": [
        "print(\"Training Score \",modelXGBRF.score(X_train,y_train))\n",
        "print(\"Testing Score \",modelXGBRF.score(X_test,y_test))"
      ],
      "execution_count": 174,
      "outputs": [
        {
          "output_type": "stream",
          "text": [
            "Training Score  0.48649641163386076\n",
            "Testing Score  0.48986443950140596\n"
          ],
          "name": "stdout"
        }
      ]
    },
    {
      "cell_type": "code",
      "metadata": {
        "colab": {
          "base_uri": "https://localhost:8080/"
        },
        "id": "PQQ090klSTQS",
        "outputId": "2b6510e1-4878-416b-cfa3-0a7ebe3268b9"
      },
      "source": [
        "#check the accuracy scores for training and test set\n",
        "print(\"___________________LR____________________________\")\n",
        "print(\"\\n\")\n",
        "print(\"Training Score \",LR.score(X_train,y_train))\n",
        "print(\"Testing Score \",LR.score(X_test,y_test))\n",
        "print(\"\\n\")\n",
        "print(\"____________________decision tree_________________\")\n",
        "print(\"\\n\")\n",
        "#check the accuracy scores for training and test set\n",
        "print(\"Training Score \",classifier.score(X_train,y_train))\n",
        "print(\"Testing Score \",classifier.score(X_test,y_test))\n",
        "print(\"\\n\")\n",
        "print(\"____________________random forest____________________\")\n",
        "print(\"\\n\")\n",
        "#check the accuracy scores for training and test set\n",
        "print(\"Training Score \",clf.score(X_train,y_train))\n",
        "print(\"Testing Score \",clf.score(X_test,y_test))\n",
        "print(\"\\n\")\n",
        "print(\"___________________________knn____________________\")\n",
        "print(\"\\n\")\n",
        "#check the accuracy scores for training and test set\n",
        "print(\"Training Score \",knn.score(X_train,y_train))\n",
        "print(\"Testing Score \",knn.score(X_test,y_test))\n",
        "print(\"\\n\")\n",
        "print(\"______________________XGBRF_______________________\")\n",
        "print(\"\\n\")\n",
        "print(\"Training Score \",modelXGBRF.score(X_train,y_train))\n",
        "print(\"Testing Score \",modelXGBRF.score(X_test,y_test))\n",
        "print(\"\\n\")\n",
        "print(\"_______________stochastic gradient descent _______________\")\n",
        "print(\"\\n\")\n",
        "print(\"Training Score \",sgdc_model.score(X_train,y_train))\n",
        "print(\"Testing Score \",sgdc_model.score(X_test,y_test))"
      ],
      "execution_count": 261,
      "outputs": [
        {
          "output_type": "stream",
          "text": [
            "___________________LR____________________________\n",
            "\n",
            "\n",
            "Training Score  0.6449151758906801\n",
            "Testing Score  0.6499466096971149\n",
            "\n",
            "\n",
            "____________________decision tree_________________\n",
            "\n",
            "\n",
            "Training Score  0.5907059218533597\n",
            "Testing Score  0.5105972216393168\n",
            "\n",
            "\n",
            "____________________random forest____________________\n",
            "\n",
            "\n",
            "Training Score  0.5906534603600957\n",
            "Testing Score  0.5165568472741008\n",
            "\n",
            "\n",
            "___________________________knn____________________\n",
            "\n",
            "\n",
            "Training Score  0.5598375792168548\n",
            "Testing Score  0.4877659797708482\n",
            "\n",
            "\n",
            "______________________XGBRF_______________________\n",
            "\n",
            "\n",
            "Training Score  0.48649641163386076\n",
            "Testing Score  0.48986443950140596\n",
            "\n",
            "\n",
            "_______________stochastic gradient descent _______________\n",
            "\n",
            "\n",
            "Training Score  0.42309145087505773\n",
            "Testing Score  0.4266168632223948\n"
          ],
          "name": "stdout"
        }
      ]
    },
    {
      "cell_type": "markdown",
      "metadata": {
        "id": "Wbf6so_qBm2b"
      },
      "source": [
        "#DEEP LEARNING"
      ]
    },
    {
      "cell_type": "markdown",
      "metadata": {
        "id": "KxUxnpvFBqhw"
      },
      "source": [
        "#Multilayer Perceptron MLP"
      ]
    },
    {
      "cell_type": "code",
      "metadata": {
        "colab": {
          "base_uri": "https://localhost:8080/"
        },
        "id": "UJAoZPou5Oe_",
        "outputId": "0c622cbc-02dc-4481-cb38-7af69b1b25ea"
      },
      "source": [
        "from sklearn.neural_network import MLPClassifier\n",
        "\n",
        "# creating the model\n",
        "mlp_model = MLPClassifier(hidden_layer_sizes = (100, 100), max_iter = 150)\n",
        "\n",
        "# feeding the training data to the model\n",
        "mlp_model.fit(X_train, y_train)\n",
        "\n",
        "# calculating the accuracies\n",
        "print(\"training accuracy :\", mlp_model.score(X_train, y_train))\n",
        "print(\"testing accuracy :\", mlp_model.score(X_test, y_test))"
      ],
      "execution_count": 175,
      "outputs": [
        {
          "output_type": "stream",
          "text": [
            "training accuracy : 0.5211734586813279\n",
            "testing accuracy : 0.5204599823729382\n"
          ],
          "name": "stdout"
        }
      ]
    },
    {
      "cell_type": "markdown",
      "metadata": {
        "id": "OC_9_EToDAbq"
      },
      "source": [
        "#Artificial Neural Networks"
      ]
    },
    {
      "cell_type": "code",
      "metadata": {
        "colab": {
          "base_uri": "https://localhost:8080/"
        },
        "id": "UhmsKZ72MND7",
        "outputId": "0d8081a0-e594-4883-812f-3fd99668e57b"
      },
      "source": [
        "# datatype of y is object which ML model will not be able to understand and process.\n",
        "# We will use LabelEncoder and to_categorical methods of sklearn and keras respectively to\n",
        "# do one hot encoding\n",
        "from sklearn.preprocessing import LabelEncoder\n",
        "from tensorflow.keras.utils import to_categorical\n",
        "encoder = LabelEncoder()\n",
        "y_encoded = encoder.fit_transform(y)\n",
        "y_encoded = to_categorical(y_encoded)\n",
        "y_encoded"
      ],
      "execution_count": 183,
      "outputs": [
        {
          "output_type": "execute_result",
          "data": {
            "text/plain": [
              "array([[0., 0., 0., ..., 1., 0., 0.],\n",
              "       [0., 0., 0., ..., 0., 0., 0.],\n",
              "       [0., 0., 1., ..., 0., 0., 0.],\n",
              "       ...,\n",
              "       [0., 0., 1., ..., 0., 0., 0.],\n",
              "       [0., 0., 0., ..., 1., 0., 0.],\n",
              "       [0., 0., 0., ..., 1., 0., 0.]], dtype=float32)"
            ]
          },
          "metadata": {
            "tags": []
          },
          "execution_count": 183
        }
      ]
    },
    {
      "cell_type": "code",
      "metadata": {
        "id": "MHwa-R2hNGJ6"
      },
      "source": [
        "# Split X and y into training and test set in 70:30 ratio\n",
        "X_train, X_test, y_train, y_test = train_test_split(X, y_encoded, test_size=0.20 , random_state=1)"
      ],
      "execution_count": 184,
      "outputs": []
    },
    {
      "cell_type": "code",
      "metadata": {
        "id": "KAguaHXoNRTB"
      },
      "source": [
        "# standard scaling \n",
        "from sklearn.preprocessing import StandardScaler\n",
        "\n",
        "sc = StandardScaler()\n",
        "X_train = sc.fit_transform(X_train)\n",
        "X_test = sc.fit_transform(X_test)"
      ],
      "execution_count": 185,
      "outputs": []
    },
    {
      "cell_type": "code",
      "metadata": {
        "colab": {
          "base_uri": "https://localhost:8080/"
        },
        "id": "Cnkmxv-ACCJI",
        "outputId": "ba4b794d-88a2-416b-cb04-5b9d52ce538e"
      },
      "source": [
        "import keras\n",
        "from keras.models import Sequential\n",
        "from keras.layers import Dense\n",
        "from tensorflow.keras.callbacks import EarlyStopping\n",
        "# creating the model\n",
        "model = Sequential()\n",
        "\n",
        "# first hidden layer\n",
        "model.add(Dense(7, activation = 'relu', input_dim = 3))\n",
        "\n",
        "# second hidden layer\n",
        "model.add(Dense(7, activation = 'relu'))\n",
        "\n",
        "# output layer\n",
        "model.add(Dense(7, activation = 'softmax'))\n",
        "\n",
        "# Compiling the NN\n",
        "# binary_crossentropy loss function used when a binary output is expected\n",
        "model.compile(optimizer = 'adam', loss = 'categorical_crossentropy', metrics = ['accuracy']) \n",
        "model.summary()\n",
        "# earlystop is used to avoid overfitting of the model on training data.It is used to monitor\n",
        "# the performence of the model during training.It allows us to choose the large number of epochs \n",
        "# and stop training once the model performence stop improving on the validation data\n",
        "\n",
        "early_stop = EarlyStopping(monitor='val_loss',mode='min',verbose = 1, patience=20)\n",
        "# fitting the model to training data\n",
        "model.fit(X_train, y_train, validation_data=(X_test,y_test), epochs=300, callbacks=[early_stop])"
      ],
      "execution_count": 188,
      "outputs": [
        {
          "output_type": "stream",
          "text": [
            "Model: \"sequential_13\"\n",
            "_________________________________________________________________\n",
            "Layer (type)                 Output Shape              Param #   \n",
            "=================================================================\n",
            "dense_33 (Dense)             (None, 7)                 28        \n",
            "_________________________________________________________________\n",
            "dense_34 (Dense)             (None, 7)                 56        \n",
            "_________________________________________________________________\n",
            "dense_35 (Dense)             (None, 7)                 56        \n",
            "=================================================================\n",
            "Total params: 140\n",
            "Trainable params: 140\n",
            "Non-trainable params: 0\n",
            "_________________________________________________________________\n",
            "Epoch 1/300\n",
            "2979/2979 [==============================] - 10s 3ms/step - loss: 1.4596 - accuracy: 0.4102 - val_loss: 1.1386 - val_accuracy: 0.5000\n",
            "Epoch 2/300\n",
            "2979/2979 [==============================] - 9s 3ms/step - loss: 1.1407 - accuracy: 0.5115 - val_loss: 1.1275 - val_accuracy: 0.5143\n",
            "Epoch 3/300\n",
            "2979/2979 [==============================] - 9s 3ms/step - loss: 1.1347 - accuracy: 0.5151 - val_loss: 1.1234 - val_accuracy: 0.5175\n",
            "Epoch 4/300\n",
            "2979/2979 [==============================] - 9s 3ms/step - loss: 1.1292 - accuracy: 0.5141 - val_loss: 1.1201 - val_accuracy: 0.5163\n",
            "Epoch 5/300\n",
            "2979/2979 [==============================] - 9s 3ms/step - loss: 1.1241 - accuracy: 0.5145 - val_loss: 1.1198 - val_accuracy: 0.5141\n",
            "Epoch 6/300\n",
            "2979/2979 [==============================] - 9s 3ms/step - loss: 1.1271 - accuracy: 0.5134 - val_loss: 1.1211 - val_accuracy: 0.5145\n",
            "Epoch 7/300\n",
            "2979/2979 [==============================] - 9s 3ms/step - loss: 1.1245 - accuracy: 0.5167 - val_loss: 1.1198 - val_accuracy: 0.5178\n",
            "Epoch 8/300\n",
            "2979/2979 [==============================] - 9s 3ms/step - loss: 1.1238 - accuracy: 0.5175 - val_loss: 1.1177 - val_accuracy: 0.5192\n",
            "Epoch 9/300\n",
            "2979/2979 [==============================] - 9s 3ms/step - loss: 1.1278 - accuracy: 0.5132 - val_loss: 1.1178 - val_accuracy: 0.5197\n",
            "Epoch 10/300\n",
            "2979/2979 [==============================] - 9s 3ms/step - loss: 1.1251 - accuracy: 0.5180 - val_loss: 1.1186 - val_accuracy: 0.5179\n",
            "Epoch 11/300\n",
            "2979/2979 [==============================] - 10s 3ms/step - loss: 1.1244 - accuracy: 0.5160 - val_loss: 1.1174 - val_accuracy: 0.5171\n",
            "Epoch 12/300\n",
            "2979/2979 [==============================] - 9s 3ms/step - loss: 1.1244 - accuracy: 0.5159 - val_loss: 1.1184 - val_accuracy: 0.5171\n",
            "Epoch 13/300\n",
            "2979/2979 [==============================] - 10s 3ms/step - loss: 1.1272 - accuracy: 0.5154 - val_loss: 1.1181 - val_accuracy: 0.5170\n",
            "Epoch 14/300\n",
            "2979/2979 [==============================] - 10s 3ms/step - loss: 1.1207 - accuracy: 0.5190 - val_loss: 1.1178 - val_accuracy: 0.5184\n",
            "Epoch 15/300\n",
            "2979/2979 [==============================] - 10s 3ms/step - loss: 1.1234 - accuracy: 0.5181 - val_loss: 1.1179 - val_accuracy: 0.5182\n",
            "Epoch 16/300\n",
            "2979/2979 [==============================] - 9s 3ms/step - loss: 1.1217 - accuracy: 0.5185 - val_loss: 1.1179 - val_accuracy: 0.5181\n",
            "Epoch 17/300\n",
            "2979/2979 [==============================] - 9s 3ms/step - loss: 1.1251 - accuracy: 0.5130 - val_loss: 1.1186 - val_accuracy: 0.5177\n",
            "Epoch 18/300\n",
            "2979/2979 [==============================] - 9s 3ms/step - loss: 1.1283 - accuracy: 0.5139 - val_loss: 1.1169 - val_accuracy: 0.5179\n",
            "Epoch 19/300\n",
            "2979/2979 [==============================] - 10s 3ms/step - loss: 1.1233 - accuracy: 0.5177 - val_loss: 1.1174 - val_accuracy: 0.5177\n",
            "Epoch 20/300\n",
            "2979/2979 [==============================] - 10s 3ms/step - loss: 1.1255 - accuracy: 0.5154 - val_loss: 1.1184 - val_accuracy: 0.5153\n",
            "Epoch 21/300\n",
            "2979/2979 [==============================] - 10s 3ms/step - loss: 1.1248 - accuracy: 0.5145 - val_loss: 1.1199 - val_accuracy: 0.5140\n",
            "Epoch 22/300\n",
            "2979/2979 [==============================] - 10s 3ms/step - loss: 1.1205 - accuracy: 0.5165 - val_loss: 1.1174 - val_accuracy: 0.5156\n",
            "Epoch 23/300\n",
            "2979/2979 [==============================] - 9s 3ms/step - loss: 1.1276 - accuracy: 0.5155 - val_loss: 1.1180 - val_accuracy: 0.5167\n",
            "Epoch 24/300\n",
            "2979/2979 [==============================] - 10s 3ms/step - loss: 1.1264 - accuracy: 0.5146 - val_loss: 1.1179 - val_accuracy: 0.5192\n",
            "Epoch 25/300\n",
            "2979/2979 [==============================] - 9s 3ms/step - loss: 1.1188 - accuracy: 0.5189 - val_loss: 1.1207 - val_accuracy: 0.5175\n",
            "Epoch 26/300\n",
            "2979/2979 [==============================] - 9s 3ms/step - loss: 1.1232 - accuracy: 0.5163 - val_loss: 1.1172 - val_accuracy: 0.5175\n",
            "Epoch 27/300\n",
            "2979/2979 [==============================] - 9s 3ms/step - loss: 1.1261 - accuracy: 0.5179 - val_loss: 1.1164 - val_accuracy: 0.5187\n",
            "Epoch 28/300\n",
            "2979/2979 [==============================] - 10s 3ms/step - loss: 1.1243 - accuracy: 0.5175 - val_loss: 1.1171 - val_accuracy: 0.5189\n",
            "Epoch 29/300\n",
            "2979/2979 [==============================] - 10s 3ms/step - loss: 1.1211 - accuracy: 0.5187 - val_loss: 1.1170 - val_accuracy: 0.5178\n",
            "Epoch 30/300\n",
            "2979/2979 [==============================] - 10s 3ms/step - loss: 1.1220 - accuracy: 0.5172 - val_loss: 1.1178 - val_accuracy: 0.5153\n",
            "Epoch 31/300\n",
            "2979/2979 [==============================] - 10s 3ms/step - loss: 1.1263 - accuracy: 0.5143 - val_loss: 1.1184 - val_accuracy: 0.5174\n",
            "Epoch 32/300\n",
            "2979/2979 [==============================] - 10s 3ms/step - loss: 1.1279 - accuracy: 0.5163 - val_loss: 1.1181 - val_accuracy: 0.5177\n",
            "Epoch 33/300\n",
            "2979/2979 [==============================] - 10s 3ms/step - loss: 1.1221 - accuracy: 0.5191 - val_loss: 1.1184 - val_accuracy: 0.5189\n",
            "Epoch 34/300\n",
            "2979/2979 [==============================] - 9s 3ms/step - loss: 1.1222 - accuracy: 0.5175 - val_loss: 1.1166 - val_accuracy: 0.5179\n",
            "Epoch 35/300\n",
            "2979/2979 [==============================] - 9s 3ms/step - loss: 1.1202 - accuracy: 0.5180 - val_loss: 1.1163 - val_accuracy: 0.5171\n",
            "Epoch 36/300\n",
            "2979/2979 [==============================] - 9s 3ms/step - loss: 1.1243 - accuracy: 0.5162 - val_loss: 1.1165 - val_accuracy: 0.5171\n",
            "Epoch 37/300\n",
            "2979/2979 [==============================] - 9s 3ms/step - loss: 1.1283 - accuracy: 0.5150 - val_loss: 1.1159 - val_accuracy: 0.5187\n",
            "Epoch 38/300\n",
            "2979/2979 [==============================] - 10s 3ms/step - loss: 1.1214 - accuracy: 0.5182 - val_loss: 1.1162 - val_accuracy: 0.5192\n",
            "Epoch 39/300\n",
            "2979/2979 [==============================] - 10s 3ms/step - loss: 1.1274 - accuracy: 0.5151 - val_loss: 1.1159 - val_accuracy: 0.5186\n",
            "Epoch 40/300\n",
            "2979/2979 [==============================] - 10s 3ms/step - loss: 1.1214 - accuracy: 0.5201 - val_loss: 1.1177 - val_accuracy: 0.5164\n",
            "Epoch 41/300\n",
            "2979/2979 [==============================] - 9s 3ms/step - loss: 1.1218 - accuracy: 0.5185 - val_loss: 1.1179 - val_accuracy: 0.5181\n",
            "Epoch 42/300\n",
            "2979/2979 [==============================] - 9s 3ms/step - loss: 1.1275 - accuracy: 0.5144 - val_loss: 1.1160 - val_accuracy: 0.5189\n",
            "Epoch 43/300\n",
            "2979/2979 [==============================] - 9s 3ms/step - loss: 1.1195 - accuracy: 0.5198 - val_loss: 1.1187 - val_accuracy: 0.5167\n",
            "Epoch 44/300\n",
            "2979/2979 [==============================] - 9s 3ms/step - loss: 1.1224 - accuracy: 0.5172 - val_loss: 1.1167 - val_accuracy: 0.5172\n",
            "Epoch 45/300\n",
            "2979/2979 [==============================] - 10s 3ms/step - loss: 1.1252 - accuracy: 0.5164 - val_loss: 1.1155 - val_accuracy: 0.5195\n",
            "Epoch 46/300\n",
            "2979/2979 [==============================] - 10s 3ms/step - loss: 1.1260 - accuracy: 0.5165 - val_loss: 1.1166 - val_accuracy: 0.5192\n",
            "Epoch 47/300\n",
            "2979/2979 [==============================] - 9s 3ms/step - loss: 1.1247 - accuracy: 0.5179 - val_loss: 1.1175 - val_accuracy: 0.5182\n",
            "Epoch 48/300\n",
            "2979/2979 [==============================] - 9s 3ms/step - loss: 1.1222 - accuracy: 0.5153 - val_loss: 1.1173 - val_accuracy: 0.5169\n",
            "Epoch 49/300\n",
            "2979/2979 [==============================] - 10s 3ms/step - loss: 1.1204 - accuracy: 0.5186 - val_loss: 1.1153 - val_accuracy: 0.5207\n",
            "Epoch 50/300\n",
            "2979/2979 [==============================] - 9s 3ms/step - loss: 1.1230 - accuracy: 0.5169 - val_loss: 1.1180 - val_accuracy: 0.5178\n",
            "Epoch 51/300\n",
            "2979/2979 [==============================] - 10s 3ms/step - loss: 1.1211 - accuracy: 0.5192 - val_loss: 1.1171 - val_accuracy: 0.5182\n",
            "Epoch 52/300\n",
            "2979/2979 [==============================] - 9s 3ms/step - loss: 1.1254 - accuracy: 0.5162 - val_loss: 1.1152 - val_accuracy: 0.5201\n",
            "Epoch 53/300\n",
            "2979/2979 [==============================] - 9s 3ms/step - loss: 1.1253 - accuracy: 0.5171 - val_loss: 1.1163 - val_accuracy: 0.5198\n",
            "Epoch 54/300\n",
            "2979/2979 [==============================] - 9s 3ms/step - loss: 1.1216 - accuracy: 0.5188 - val_loss: 1.1164 - val_accuracy: 0.5194\n",
            "Epoch 55/300\n",
            "2979/2979 [==============================] - 10s 3ms/step - loss: 1.1263 - accuracy: 0.5178 - val_loss: 1.1151 - val_accuracy: 0.5192\n",
            "Epoch 56/300\n",
            "2979/2979 [==============================] - 9s 3ms/step - loss: 1.1253 - accuracy: 0.5185 - val_loss: 1.1159 - val_accuracy: 0.5202\n",
            "Epoch 57/300\n",
            "2979/2979 [==============================] - 10s 3ms/step - loss: 1.1234 - accuracy: 0.5165 - val_loss: 1.1155 - val_accuracy: 0.5183\n",
            "Epoch 58/300\n",
            "2979/2979 [==============================] - 10s 3ms/step - loss: 1.1274 - accuracy: 0.5168 - val_loss: 1.1161 - val_accuracy: 0.5192\n",
            "Epoch 59/300\n",
            "2979/2979 [==============================] - 9s 3ms/step - loss: 1.1244 - accuracy: 0.5167 - val_loss: 1.1152 - val_accuracy: 0.5206\n",
            "Epoch 60/300\n",
            "2979/2979 [==============================] - 9s 3ms/step - loss: 1.1252 - accuracy: 0.5153 - val_loss: 1.1164 - val_accuracy: 0.5203\n",
            "Epoch 61/300\n",
            "2979/2979 [==============================] - 9s 3ms/step - loss: 1.1251 - accuracy: 0.5176 - val_loss: 1.1152 - val_accuracy: 0.5187\n",
            "Epoch 62/300\n",
            "2979/2979 [==============================] - 9s 3ms/step - loss: 1.1193 - accuracy: 0.5200 - val_loss: 1.1161 - val_accuracy: 0.5219\n",
            "Epoch 63/300\n",
            "2979/2979 [==============================] - 10s 3ms/step - loss: 1.1219 - accuracy: 0.5182 - val_loss: 1.1162 - val_accuracy: 0.5193\n",
            "Epoch 64/300\n",
            "2979/2979 [==============================] - 10s 3ms/step - loss: 1.1207 - accuracy: 0.5191 - val_loss: 1.1156 - val_accuracy: 0.5199\n",
            "Epoch 65/300\n",
            "2979/2979 [==============================] - 9s 3ms/step - loss: 1.1214 - accuracy: 0.5191 - val_loss: 1.1159 - val_accuracy: 0.5192\n",
            "Epoch 66/300\n",
            "2979/2979 [==============================] - 10s 3ms/step - loss: 1.1226 - accuracy: 0.5182 - val_loss: 1.1163 - val_accuracy: 0.5198\n",
            "Epoch 67/300\n",
            "2979/2979 [==============================] - 10s 3ms/step - loss: 1.1180 - accuracy: 0.5204 - val_loss: 1.1163 - val_accuracy: 0.5196\n",
            "Epoch 68/300\n",
            "2979/2979 [==============================] - 9s 3ms/step - loss: 1.1238 - accuracy: 0.5168 - val_loss: 1.1167 - val_accuracy: 0.5201\n",
            "Epoch 69/300\n",
            "2979/2979 [==============================] - 9s 3ms/step - loss: 1.1255 - accuracy: 0.5167 - val_loss: 1.1161 - val_accuracy: 0.5205\n",
            "Epoch 70/300\n",
            "2979/2979 [==============================] - 9s 3ms/step - loss: 1.1197 - accuracy: 0.5192 - val_loss: 1.1151 - val_accuracy: 0.5193\n",
            "Epoch 71/300\n",
            "2979/2979 [==============================] - 10s 3ms/step - loss: 1.1250 - accuracy: 0.5173 - val_loss: 1.1154 - val_accuracy: 0.5198\n",
            "Epoch 72/300\n",
            "2979/2979 [==============================] - 10s 3ms/step - loss: 1.1201 - accuracy: 0.5199 - val_loss: 1.1160 - val_accuracy: 0.5205\n",
            "Epoch 73/300\n",
            "2979/2979 [==============================] - 9s 3ms/step - loss: 1.1218 - accuracy: 0.5166 - val_loss: 1.1153 - val_accuracy: 0.5184\n",
            "Epoch 74/300\n",
            "2979/2979 [==============================] - 9s 3ms/step - loss: 1.1275 - accuracy: 0.5166 - val_loss: 1.1170 - val_accuracy: 0.5192\n",
            "Epoch 75/300\n",
            "2979/2979 [==============================] - 10s 3ms/step - loss: 1.1263 - accuracy: 0.5166 - val_loss: 1.1153 - val_accuracy: 0.5185\n",
            "Epoch 00075: early stopping\n"
          ],
          "name": "stdout"
        },
        {
          "output_type": "execute_result",
          "data": {
            "text/plain": [
              "<keras.callbacks.History at 0x7fa5bd457850>"
            ]
          },
          "metadata": {
            "tags": []
          },
          "execution_count": 188
        }
      ]
    },
    {
      "cell_type": "code",
      "metadata": {
        "colab": {
          "base_uri": "https://localhost:8080/",
          "height": 295
        },
        "id": "QF0yujBsH7Ue",
        "outputId": "2fbc5ac0-5245-4cf4-bd2c-b3c550fd9494"
      },
      "source": [
        "metrics = pd.DataFrame(model.history.history)\n",
        "plt.plot(metrics['loss'], color='b',label='loss')\n",
        "plt.plot(metrics['val_loss'], color='r',label='validation loss')\n",
        "plt.xlabel('Epochs')\n",
        "plt.legend(loc='upper right')\n",
        "plt.title('Loss') \n",
        "plt.show()"
      ],
      "execution_count": 189,
      "outputs": [
        {
          "output_type": "display_data",
          "data": {
            "image/png": "[encoded data removed]",
            "text/plain": [
              "<Figure size 432x288 with 1 Axes>"
            ]
          },
          "metadata": {
            "tags": [],
            "needs_background": "light"
          }
        }
      ]
    },
    {
      "cell_type": "markdown",
      "metadata": {
        "id": "F5mhDstUXN4b"
      },
      "source": [
        "#Saving the LR model into a pickle file"
      ]
    },
    {
      "cell_type": "code",
      "metadata": {
        "colab": {
          "base_uri": "https://localhost:8080/"
        },
        "id": "d5j3TlFYWR5Z",
        "outputId": "84ab7e4f-472c-4e17-d380-c84dc7b6459a"
      },
      "source": [
        "from sklearn.ensemble import RandomForestClassifier\n",
        "from sklearn import datasets\n",
        "from sklearn.externals import joblib\n",
        "joblib.dump(LR, \"LRmodel.pkl\")\n"
      ],
      "execution_count": 267,
      "outputs": [
        {
          "output_type": "execute_result",
          "data": {
            "text/plain": [
              "['LRmodel.pkl']"
            ]
          },
          "metadata": {
            "tags": []
          },
          "execution_count": 267
        }
      ]
    },
    {
      "cell_type": "code",
      "metadata": {
        "id": "1956c3ZnWvjK"
      },
      "source": [
        "# Load model from file\n",
        "classifer = joblib.load(\"LRmodel.pkl\")"
      ],
      "execution_count": 266,
      "outputs": []
    },
    {
      "cell_type": "code",
      "metadata": {
        "id": "DSjsEOlTXGjH"
      },
      "source": [
        ""
      ],
      "execution_count": null,
      "outputs": []
    }
  ]
}